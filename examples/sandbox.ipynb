{
 "cells": [
  {
   "cell_type": "markdown",
   "metadata": {},
   "source": [
    "# Ramsey-Cass-Koopmans model\n",
    "\n",
    "Ramsey model from Chapter 2 of D. Romer's *Advanced Economics* looks as follows...\n",
    "\n",
    "\\begin{align}\n",
    "    \\dot{k}(t) =& k(t)^{\\alpha} - c(t) - (g + n + \\delta)k(t),\\\\\n",
    "    \\dot{c}(t) =& \\Bigg[\\frac{1}{\\theta} \\bigg[\\alpha k(t)^{\\alpha - 1} - \\delta - \\rho - \\theta g\\bigg]\\Bigg]c(t)\n",
    "\\end{align}\n",
    "...with boundary conditions...\n",
    "\\begin{align}\n",
    "    k(0) =& k_0 \\\\\n",
    "    lim_{t\\rightarrow \\infty} c(t) =& c^*\n",
    "\\end{align}\n",
    "\n",
    "...where...\n",
    "\n",
    "* Elasticity of output with respect to capital: $0 < \\alpha < 1$\n",
    "* Coefficient of relative risk aversion: $0 < \\theta$\n",
    "* Discount rate: $0 < \\rho$\n",
    "* Breakeven investment: $0 < g + n + \\delta$\n",
    "* Convergent lifetime utility: $0 < \\rho - n - (1 - \\theta)g$\n",
    "\n",
    "Note that we are assuming two things...\n",
    "\n",
    "1. Cobb-Douglas production\n",
    "2. Constant Relative Risk Aversion (CRRA) preferences\n",
    "\n"
   ]
  },
  {
   "cell_type": "code",
   "execution_count": 4,
   "metadata": {
    "collapsed": true
   },
   "outputs": [],
   "source": [
    "%matplotlib inline"
   ]
  },
  {
   "cell_type": "code",
   "execution_count": 5,
   "metadata": {
    "collapsed": false
   },
   "outputs": [],
   "source": [
    "import numpy as np\n",
    "import matplotlib.pyplot as plt\n",
    "import seaborn as sn\n",
    "import sympy as sym\n",
    "\n",
    "import pycollocation"
   ]
  },
  {
   "cell_type": "code",
   "execution_count": 6,
   "metadata": {
    "collapsed": false
   },
   "outputs": [
    {
     "data": {
      "text/plain": [
       "'0.3.0a0'"
      ]
     },
     "execution_count": 6,
     "metadata": {},
     "output_type": "execute_result"
    }
   ],
   "source": [
    "pycollocation.__version__"
   ]
  },
  {
   "cell_type": "code",
   "execution_count": 7,
   "metadata": {
    "collapsed": false
   },
   "outputs": [
    {
     "ename": "SyntaxError",
     "evalue": "invalid syntax (<ipython-input-7-19870ab3e0c2>, line 1)",
     "output_type": "error",
     "traceback": [
      "\u001b[0;36m  File \u001b[0;32m\"<ipython-input-7-19870ab3e0c2>\"\u001b[0;36m, line \u001b[0;32m1\u001b[0m\n\u001b[0;31m    pycollocation.\u001b[0m\n\u001b[0m                  ^\u001b[0m\n\u001b[0;31mSyntaxError\u001b[0m\u001b[0;31m:\u001b[0m invalid syntax\n"
     ]
    }
   ],
   "source": [
    "pycollocation."
   ]
  },
  {
   "cell_type": "code",
   "execution_count": 8,
   "metadata": {
    "collapsed": false
   },
   "outputs": [],
   "source": [
    "def extensive_output(A, K, L, **params):\n",
    "    \"\"\"Output is a function of technology, A, capital, K, and labor, L.\"\"\"\n",
    "    alpha = params['alpha']\n",
    "    return K**alpha * (A * L)**(1 - alpha)\n",
    "\n",
    "def flow_utility(C, **params):\n",
    "    \"\"\"Flow utility from consumption (per capita).\"\"\"\n",
    "    theta = params['theta']\n",
    "    return (C**(1 - theta) - 1) / (1 - theta)\n",
    "\n",
    "def steady_state_capital(A0, delta, g, K0, L0, n, rho, alpha, theta):\n",
    "    \"\"\"\n",
    "    Equilibrium value of capital (per unit effective labor) with\n",
    "    Cobb-Douglas production and Constant Relative Risk Aversion (CRRA)\n",
    "    preferences.\n",
    "    \n",
    "    \"\"\"\n",
    "    return (alpha / (delta + rho + theta * g))**(1 / (1 - alpha))\n"
   ]
  },
  {
   "cell_type": "code",
   "execution_count": 9,
   "metadata": {
    "collapsed": false
   },
   "outputs": [],
   "source": [
    "class RamseyModelLike(object):\n",
    "                \n",
    "    @property\n",
    "    def flow_utility(self):\n",
    "        return self._flow_utility\n",
    "    \n",
    "    @flow_utility.setter\n",
    "    def flow_utility(self, u):\n",
    "        self._flow_utility = u\n",
    "    \n",
    "    @property\n",
    "    def extensive_output(self):\n",
    "        return self._extensive_output\n",
    "    \n",
    "    @extensive_output.setter\n",
    "    def extensive_output(self, F):\n",
    "        self._extensive_output = F\n",
    "        \n",
    "    @staticmethod\n",
    "    def marginal_product_capital(Y, K):\n",
    "        \"\"\"Marginal product of capital.\"\"\"\n",
    "        return sym.diff(Y, K, 1)\n",
    "\n",
    "    @staticmethod\n",
    "    def marginal_product_labor(Y, L):\n",
    "        \"\"\"Marginal product of labor.\"\"\"\n",
    "        return sym.diff(Y, L, 1)\n",
    "    \n",
    "    @staticmethod\n",
    "    def break_even_investment(k, delta, g, n, **params):\n",
    "        \"\"\"\n",
    "        Return level of investment (per unit effective labor) required\n",
    "        to maintain current level of capital (per unit effective labor).\n",
    "\n",
    "        \"\"\"\n",
    "        return (g + n + delta) * k\n",
    "    \n",
    "    def actual_investment(self, k, c, **params):\n",
    "        \"\"\"Return investment (per unit effective labor).\"\"\"\n",
    "        return self.intensive_output(k, **params) - c\n",
    "    \n",
    "    def equation_motion_capital(self, t, k, c, A0, delta, g, n, rho, **params):\n",
    "        \"\"\"Equation of motion for capital (per unit effective labor).\"\"\"\n",
    "        k_dot = (self.actual_investment(k, c, **params) -\n",
    "                 self.break_even_investment(k, delta, g, n, **params))\n",
    "        return k_dot\n",
    "    \n",
    "    def intensive_output(self, k, **params):\n",
    "        \"\"\"\n",
    "        Intensive output is a function of capital (per unit effective labor)\n",
    "        and model parameters.\n",
    "\n",
    "        \"\"\"\n",
    "        return self.extensive_output(1, k, 1, **params) \n",
    "    \n",
    "\n",
    "class SolowModelLike(RamseyModelLike):\n",
    "    \n",
    "    def consumption(t, k, s, **params):\n",
    "        \"\"\"Household consumes a fixed fraction of output (per unit effective labor).\"\"\"\n",
    "        return (1 - s) * self.intensive_output(k, **params)\n",
    "    \n",
    "    def equation_motion_capital(self, t, k, A0, delta, g, n, rho, s, **params):\n",
    "        \"\"\"Equation of motion for capital (per unit effective labor).\"\"\"\n",
    "        c = self.consumption(t, k, s, **params)\n",
    "        k_dot = super(SolowModelLike, self).equation_motion_capital(t, k, c, A0, delta, g, n, rho, **params)\n",
    "        return k_dot\n",
    "            "
   ]
  },
  {
   "cell_type": "code",
   "execution_count": 10,
   "metadata": {
    "collapsed": false
   },
   "outputs": [],
   "source": [
    "model = RamseyModelLike()"
   ]
  },
  {
   "cell_type": "code",
   "execution_count": 11,
   "metadata": {
    "collapsed": false
   },
   "outputs": [],
   "source": [
    "# set the user required model primitives\n",
    "model.extensive_output = extensive_output\n",
    "model.flow_utility = flow_utility"
   ]
  },
  {
   "cell_type": "markdown",
   "metadata": {},
   "source": [
    "## Using pyCollocation"
   ]
  },
  {
   "cell_type": "code",
   "execution_count": 12,
   "metadata": {
    "collapsed": true
   },
   "outputs": [],
   "source": [
    "def steady_state_capital_locus(self, k, delta, g, n, **params):\n",
    "        \"\"\"\n",
    "        Locus of points (k, c) such that :math:`\\dot{k}=0`.\n",
    "\n",
    "        Function returns the level of consumption (per unit\n",
    "        effective labor) required in order to maintain a given\n",
    "        level of capital (per unit effective labor).\n",
    "\n",
    "        \"\"\"\n",
    "        locus = (self.intensive_output(k, **params) -\n",
    "                 self.break_even_investment(k, delta, g, n, **params))\n",
    "        return locus\n",
    "\n",
    "def steady_state_consumption(self, A0, delta, g, K0, L0, n, rho, **params):\n",
    "        \"\"\"Equilibrium value for consumption (per unit effective labor).\"\"\"\n",
    "        k_star = steady_state_capital(A0, delta, g, K0, L0, n, rho, **params)\n",
    "        c_star = self.steady_state_capital_locus(k_star, delta, g, n, **params)\n",
    "        return c_star\n",
    "    \n",
    "def find_steady_state(self, ):\n",
    "        \"\"\"Compute the equilibrium values of capital stock and consumption (per unit effective labor).\"\"\"\n",
    "        result = optimize.root()\n",
    "        return result"
   ]
  },
  {
   "cell_type": "code",
   "execution_count": null,
   "metadata": {
    "collapsed": true
   },
   "outputs": [],
   "source": []
  },
  {
   "cell_type": "code",
   "execution_count": 22,
   "metadata": {
    "collapsed": false
   },
   "outputs": [],
   "source": [
    "from pycollocation import SymbolicTwoPointBVPLike\n",
    "\n",
    "\n",
    "class RamseyProblem(RamseyModelLike, SymbolicTwoPointBVPLike):\n",
    "    \n",
    "    def __init__(self, F, u, params):\n",
    "        self.extensive_output = F\n",
    "        self.flow_utility = u\n",
    "        self.params = params\n",
    "        \n",
    "    @property\n",
    "    def _change_of_variables(self):\n",
    "        \"\"\"Substitutions for C and r.\"\"\"\n",
    "        return {'C': self._per_capita_consumption, 'r': self.real_interest_rate}\n",
    "        \n",
    "    @property\n",
    "    def _growth_rate_c(self):\n",
    "        \"\"\"Growth rate of consumption (per unit effective labor).\"\"\"\n",
    "        return self._growth_rate_C - self._symbolic_params['g']\n",
    "        \n",
    "    @property\n",
    "    def _growth_rate_C(self):\n",
    "        \"\"\"Growth rate of consumption (per unit labor).\"\"\"\n",
    "        return self.consumption_euler_equation.subs(self._change_of_variables)\n",
    "    \n",
    "    @property\n",
    "    def _initial_condition_capital(self):\n",
    "        \"\"\"Intitial condition for capital stock (per unit effective labor).\"\"\"\n",
    "        return self.params['K0'] / (self.params['A0'] * self.params['L0'])\n",
    "            \n",
    "    @property\n",
    "    def _per_capita_consumption(self):\n",
    "        \"\"\"Symbolic expression for per capita consumption.\"\"\"\n",
    "        t, c = self._symbolic_vars[0::2]\n",
    "        A0, g = self._symbolic_params['A0'], self._symbolic_params['g']\n",
    "        return A0 * sym.exp(g * t) * c\n",
    "    \n",
    "    @property\n",
    "    def boundary_conditions(self):\n",
    "        \"\"\"Boundary conditions for the model.\"\"\"\n",
    "        k0 = self._initial_condition_capital\n",
    "        c_star = self.steady_state_consumption(**self.params)\n",
    "        bcs = {'lower': [self._symbolic_vars[1] - k0],\n",
    "               'upper': [self._symbolic_vars[2] - c_star]}\n",
    "        return bcs\n",
    "            \n",
    "    @property\n",
    "    def c_dot(self):\n",
    "        \"\"\"\n",
    "        Symbolic expression defining the equation of motion for \n",
    "        consumption (per unit effective labor).\n",
    "        \n",
    "        \"\"\"\n",
    "        return self._growth_rate_c * self._symbolic_vars[2]\n",
    "    \n",
    "    @property\n",
    "    def consumption_euler_equation(self):\n",
    "        \"\"\"\n",
    "        Representative household's consumption Euler equation.\n",
    "\n",
    "        The Euler equation implies that the growth rate of per\n",
    "        capita consumption is proportional to the difference\n",
    "        between the real interest rate and the discount rate of\n",
    "        the representative household.\n",
    "\n",
    "        \"\"\"\n",
    "        epsilon = self.elasticity_intertemporal_substitution\n",
    "        r = self.real_interest_rate\n",
    "        consumption_growth = epsilon * (r - self._symbolic_params['rho'])\n",
    "        return consumption_growth\n",
    "    \n",
    "    @property\n",
    "    def dependent_vars(self):\n",
    "        \"\"\"Return a list of model dependent variables.\"\"\"\n",
    "        return ['k', 'c']\n",
    "    \n",
    "    @property\n",
    "    def elasticity_intertemporal_substitution(self):\n",
    "        \"\"\"\n",
    "        Elasticity of intertemporal substitution is reciprical of the\n",
    "        coefficient of relative risk aversion.\n",
    "\n",
    "        \"\"\"\n",
    "        return 1 / self.relative_risk_aversion_coef\n",
    "    \n",
    "    @property\n",
    "    def independent_var(self):\n",
    "        \"\"\"Return the model independent variable as a string.\"\"\"\n",
    "        return 't'\n",
    "    \n",
    "    @property\n",
    "    def k_dot(self):\n",
    "        \"\"\"Symbolic expression defining the equation of motion for capital stock (per unit effective labor).\"\"\"\n",
    "        return self.equation_motion_capital(*self._symbolic_vars, **self._symbolic_params)\n",
    "    \n",
    "    @property\n",
    "    def real_interest_rate(self):\n",
    "        \"\"\"Return the real interest rate (net depreciation).\"\"\"\n",
    "        Y = self.extensive_output(1, self._symbolic_vars[1], 1, **self._symbolic_params)\n",
    "        mpk = self.marginal_product_capital(Y, self._symbolic_vars[1])\n",
    "        return mpk - self._symbolic_params['delta']\n",
    "        \n",
    "    @property\n",
    "    def relative_risk_aversion_coef(self):\n",
    "        \"\"\"Return the coefficient of relative risk aversion.\"\"\"\n",
    "        C = sym.symbols(\"C\")\n",
    "        u = self.flow_utility(C, **self._symbolic_params)\n",
    "        crra = -((C * sym.diff(u, C, 2)) / sym.diff(u, C, 1))\n",
    "        return crra\n",
    "\n",
    "    @property\n",
    "    def rhs(self):\n",
    "        \"\"\"Symbolic expressions for the RHS of the system of ODE.\"\"\"\n",
    "        return {'k': self.k_dot, 'c': self.c_dot}\n",
    "    "
   ]
  },
  {
   "cell_type": "code",
   "execution_count": null,
   "metadata": {
    "collapsed": false
   },
   "outputs": [],
   "source": []
  },
  {
   "cell_type": "code",
   "execution_count": 23,
   "metadata": {
    "collapsed": true
   },
   "outputs": [],
   "source": [
    "params = {'A0': 1.0, 'K0': 1.0, 'L0': 1.0, 'alpha': 0.33, 'delta': 0.04, 'theta': 1.05, 'rho': 0.05,\n",
    "          'g': 0.02, 'n': 0.02}"
   ]
  },
  {
   "cell_type": "code",
   "execution_count": 24,
   "metadata": {
    "collapsed": false
   },
   "outputs": [],
   "source": [
    "problem = RamseyProblem(extensive_output, flow_utility, params)"
   ]
  },
  {
   "cell_type": "code",
   "execution_count": 25,
   "metadata": {
    "collapsed": false
   },
   "outputs": [
    {
     "data": {
      "text/plain": [
       "  status: 1\n",
       " success: True\n",
       "     qtf: array([ -1.38042791e-11,   7.55008202e-12])\n",
       "    nfev: 18\n",
       "       r: array([-0.04309798,  1.12955614,  0.41948545])\n",
       "     fun: array([ -2.90878432e-14,   6.40918761e-14])\n",
       "       x: array([ 5.08458095,  1.30350166])\n",
       " message: 'The solution converged.'\n",
       "    fjac: array([[-0.80048697,  0.59935015],\n",
       "       [-0.59935015, -0.80048697]])"
      ]
     },
     "execution_count": 25,
     "metadata": {},
     "output_type": "execute_result"
    }
   ],
   "source": [
    "problem.equilibrium.find_equilibrium(np.array([1.0, 1.0]))"
   ]
  },
  {
   "cell_type": "code",
   "execution_count": 26,
   "metadata": {
    "collapsed": false
   },
   "outputs": [],
   "source": [
    "problem.params['theta'] = 2.0"
   ]
  },
  {
   "cell_type": "code",
   "execution_count": 27,
   "metadata": {
    "collapsed": false
   },
   "outputs": [
    {
     "data": {
      "text/plain": [
       "  status: 1\n",
       " success: True\n",
       "     qtf: array([ -7.46717468e-11,   3.60795540e-11])\n",
       "    nfev: 17\n",
       "       r: array([-0.05987336,  1.16740084,  0.22841909])\n",
       "     fun: array([ -1.34781075e-13,   1.34857166e-13])\n",
       "       x: array([ 4.01639759,  1.26090543])\n",
       " message: 'The solution converged.'\n",
       "    fjac: array([[-0.94214291,  0.33521147],\n",
       "       [-0.33521147, -0.94214291]])"
      ]
     },
     "execution_count": 27,
     "metadata": {},
     "output_type": "execute_result"
    }
   ],
   "source": [
    "problem.equilibrium.find_equilibrium(np.array([1.0, 1.0]))"
   ]
  },
  {
   "cell_type": "code",
   "execution_count": 28,
   "metadata": {
    "collapsed": false
   },
   "outputs": [
    {
     "data": {
      "text/plain": [
       "-0.08"
      ]
     },
     "execution_count": 28,
     "metadata": {},
     "output_type": "execute_result"
    }
   ],
   "source": [
    "problem.equation_motion_capital(0.0, 1.0, 1.0, **problem.params)"
   ]
  },
  {
   "cell_type": "code",
   "execution_count": 29,
   "metadata": {
    "collapsed": false
   },
   "outputs": [],
   "source": [
    "solver = pycollocation.OrthogonalPolynomialSolver(problem)"
   ]
  },
  {
   "cell_type": "code",
   "execution_count": 30,
   "metadata": {
    "collapsed": true
   },
   "outputs": [],
   "source": [
    "solver._basis_function_factory?"
   ]
  },
  {
   "cell_type": "code",
   "execution_count": 31,
   "metadata": {
    "collapsed": true
   },
   "outputs": [],
   "source": [
    "class RamseySolverLike(object):\n",
    "    \n",
    "    def initial_polynomial(ts, ks, **kwargs):\n",
    "        \"\"\"Eventually need some to link to underlying basis functions!\"\"\"\n",
    "        return self._basis_function_factory(ts, ks, **kwargs)\n",
    "\n",
    "    def initial_coefs(ts, ks, cs,**kwargs):\n",
    "        \"\"\"Return dictionary of coefs.\"\"\"\n",
    "        capital = initial_polynomial(ts, ks, deg, domain)\n",
    "        consumption = initial_polynomial(ts, cs, deg, domain)\n",
    "        coefs = {'k': capital.coef, 'c': consumption.coef}\n",
    "        return coefs"
   ]
  },
  {
   "cell_type": "code",
   "execution_count": 32,
   "metadata": {
    "collapsed": false
   },
   "outputs": [],
   "source": [
    "# define our domain of approximation\n",
    "k0 = problem._initial_condition_capital\n",
    "domain = [0.0, 100.0]\n",
    "\n",
    "# initial guess for capital\n",
    "N = 1000\n",
    "ts = np.linspace(domain[0], domain[1], N)\n",
    "ks = steady_state_capital(**params) - (steady_state_capital(**params) - k0) * np.exp(-ts)\n",
    "cs = np.log(ks)\n",
    "\n",
    "def initial_polynomial(ts, ks, deg, domain):\n",
    "    \"\"\"Eventually need some to link to underlying basis functions!\"\"\"\n",
    "    return np.polynomial.Chebyshev.fit(ts, ks, deg, domain)\n",
    "\n",
    "def initial_coefs(ts, ks, cs, deg, domain):\n",
    "    \"\"\"Return dictionary of coefs.\"\"\"\n",
    "    capital = initial_polynomial(ts, ks, deg, domain)\n",
    "    consumption = initial_polynomial(ts, cs, deg, domain)\n",
    "    coefs = {'k': capital.coef, 'c': consumption.coef}\n",
    "    return coefs"
   ]
  },
  {
   "cell_type": "code",
   "execution_count": 33,
   "metadata": {
    "collapsed": false
   },
   "outputs": [
    {
     "ename": "AttributeError",
     "evalue": "'RamseyProblem' object has no attribute 'steady_state_consumption'",
     "output_type": "error",
     "traceback": [
      "\u001b[0;31m---------------------------------------------------------------------------\u001b[0m",
      "\u001b[0;31mAttributeError\u001b[0m                            Traceback (most recent call last)",
      "\u001b[0;32m<ipython-input-33-837aef2c3565>\u001b[0m in \u001b[0;36m<module>\u001b[0;34m()\u001b[0m\n\u001b[1;32m      2\u001b[0m solver.solve(kind=\"Chebyshev\",\n\u001b[1;32m      3\u001b[0m              \u001b[0mcoefs_dict\u001b[0m\u001b[0;34m=\u001b[0m\u001b[0mcoefs_guess\u001b[0m\u001b[0;34m,\u001b[0m\u001b[0;34m\u001b[0m\u001b[0m\n\u001b[0;32m----> 4\u001b[0;31m              domain=domain)\n\u001b[0m",
      "\u001b[0;32m/Users/drpugh/Research/python-dev/pyCollocation/pycollocation/orthogonal_polynomials.pyc\u001b[0m in \u001b[0;36msolve\u001b[0;34m(self, kind, coefs_dict, domain, method, **kwargs)\u001b[0m\n\u001b[1;32m    141\u001b[0m                                      \u001b[0margs\u001b[0m\u001b[0;34m=\u001b[0m\u001b[0;34m(\u001b[0m\u001b[0mkind\u001b[0m\u001b[0;34m,\u001b[0m \u001b[0mdomain\u001b[0m\u001b[0;34m,\u001b[0m \u001b[0mself\u001b[0m\u001b[0;34m.\u001b[0m\u001b[0mdegrees\u001b[0m\u001b[0;34m)\u001b[0m\u001b[0;34m,\u001b[0m\u001b[0;34m\u001b[0m\u001b[0m\n\u001b[1;32m    142\u001b[0m                                      \u001b[0mmethod\u001b[0m\u001b[0;34m=\u001b[0m\u001b[0mmethod\u001b[0m\u001b[0;34m,\u001b[0m\u001b[0;34m\u001b[0m\u001b[0m\n\u001b[0;32m--> 143\u001b[0;31m                                      **kwargs)\n\u001b[0m",
      "\u001b[0;32m/Users/drpugh/anaconda/envs/pycollocation-dev/lib/python2.7/site-packages/scipy/optimize/_root.pyc\u001b[0m in \u001b[0;36mroot\u001b[0;34m(fun, x0, args, method, jac, tol, callback, options)\u001b[0m\n\u001b[1;32m    177\u001b[0m \u001b[0;34m\u001b[0m\u001b[0m\n\u001b[1;32m    178\u001b[0m     \u001b[0;32mif\u001b[0m \u001b[0mmeth\u001b[0m \u001b[0;34m==\u001b[0m \u001b[0;34m'hybr'\u001b[0m\u001b[0;34m:\u001b[0m\u001b[0;34m\u001b[0m\u001b[0m\n\u001b[0;32m--> 179\u001b[0;31m         \u001b[0msol\u001b[0m \u001b[0;34m=\u001b[0m \u001b[0m_root_hybr\u001b[0m\u001b[0;34m(\u001b[0m\u001b[0mfun\u001b[0m\u001b[0;34m,\u001b[0m \u001b[0mx0\u001b[0m\u001b[0;34m,\u001b[0m \u001b[0margs\u001b[0m\u001b[0;34m=\u001b[0m\u001b[0margs\u001b[0m\u001b[0;34m,\u001b[0m \u001b[0mjac\u001b[0m\u001b[0;34m=\u001b[0m\u001b[0mjac\u001b[0m\u001b[0;34m,\u001b[0m \u001b[0;34m**\u001b[0m\u001b[0moptions\u001b[0m\u001b[0;34m)\u001b[0m\u001b[0;34m\u001b[0m\u001b[0m\n\u001b[0m\u001b[1;32m    180\u001b[0m     \u001b[0;32melif\u001b[0m \u001b[0mmeth\u001b[0m \u001b[0;34m==\u001b[0m \u001b[0;34m'lm'\u001b[0m\u001b[0;34m:\u001b[0m\u001b[0;34m\u001b[0m\u001b[0m\n\u001b[1;32m    181\u001b[0m         \u001b[0msol\u001b[0m \u001b[0;34m=\u001b[0m \u001b[0m_root_leastsq\u001b[0m\u001b[0;34m(\u001b[0m\u001b[0mfun\u001b[0m\u001b[0;34m,\u001b[0m \u001b[0mx0\u001b[0m\u001b[0;34m,\u001b[0m \u001b[0margs\u001b[0m\u001b[0;34m=\u001b[0m\u001b[0margs\u001b[0m\u001b[0;34m,\u001b[0m \u001b[0mjac\u001b[0m\u001b[0;34m=\u001b[0m\u001b[0mjac\u001b[0m\u001b[0;34m,\u001b[0m \u001b[0;34m**\u001b[0m\u001b[0moptions\u001b[0m\u001b[0;34m)\u001b[0m\u001b[0;34m\u001b[0m\u001b[0m\n",
      "\u001b[0;32m/Users/drpugh/anaconda/envs/pycollocation-dev/lib/python2.7/site-packages/scipy/optimize/minpack.pyc\u001b[0m in \u001b[0;36m_root_hybr\u001b[0;34m(func, x0, args, jac, col_deriv, xtol, maxfev, band, eps, factor, diag, full_output, **unknown_options)\u001b[0m\n\u001b[1;32m    195\u001b[0m     \u001b[0;32mif\u001b[0m \u001b[0;32mnot\u001b[0m \u001b[0misinstance\u001b[0m\u001b[0;34m(\u001b[0m\u001b[0margs\u001b[0m\u001b[0;34m,\u001b[0m \u001b[0mtuple\u001b[0m\u001b[0;34m)\u001b[0m\u001b[0;34m:\u001b[0m\u001b[0;34m\u001b[0m\u001b[0m\n\u001b[1;32m    196\u001b[0m         \u001b[0margs\u001b[0m \u001b[0;34m=\u001b[0m \u001b[0;34m(\u001b[0m\u001b[0margs\u001b[0m\u001b[0;34m,\u001b[0m\u001b[0;34m)\u001b[0m\u001b[0;34m\u001b[0m\u001b[0m\n\u001b[0;32m--> 197\u001b[0;31m     \u001b[0mshape\u001b[0m\u001b[0;34m,\u001b[0m \u001b[0mdtype\u001b[0m \u001b[0;34m=\u001b[0m \u001b[0m_check_func\u001b[0m\u001b[0;34m(\u001b[0m\u001b[0;34m'fsolve'\u001b[0m\u001b[0;34m,\u001b[0m \u001b[0;34m'func'\u001b[0m\u001b[0;34m,\u001b[0m \u001b[0mfunc\u001b[0m\u001b[0;34m,\u001b[0m \u001b[0mx0\u001b[0m\u001b[0;34m,\u001b[0m \u001b[0margs\u001b[0m\u001b[0;34m,\u001b[0m \u001b[0mn\u001b[0m\u001b[0;34m,\u001b[0m \u001b[0;34m(\u001b[0m\u001b[0mn\u001b[0m\u001b[0;34m,\u001b[0m\u001b[0;34m)\u001b[0m\u001b[0;34m)\u001b[0m\u001b[0;34m\u001b[0m\u001b[0m\n\u001b[0m\u001b[1;32m    198\u001b[0m     \u001b[0;32mif\u001b[0m \u001b[0mepsfcn\u001b[0m \u001b[0;32mis\u001b[0m \u001b[0mNone\u001b[0m\u001b[0;34m:\u001b[0m\u001b[0;34m\u001b[0m\u001b[0m\n\u001b[1;32m    199\u001b[0m         \u001b[0mepsfcn\u001b[0m \u001b[0;34m=\u001b[0m \u001b[0mfinfo\u001b[0m\u001b[0;34m(\u001b[0m\u001b[0mdtype\u001b[0m\u001b[0;34m)\u001b[0m\u001b[0;34m.\u001b[0m\u001b[0meps\u001b[0m\u001b[0;34m\u001b[0m\u001b[0m\n",
      "\u001b[0;32m/Users/drpugh/anaconda/envs/pycollocation-dev/lib/python2.7/site-packages/scipy/optimize/minpack.pyc\u001b[0m in \u001b[0;36m_check_func\u001b[0;34m(checker, argname, thefunc, x0, args, numinputs, output_shape)\u001b[0m\n\u001b[1;32m     18\u001b[0m def _check_func(checker, argname, thefunc, x0, args, numinputs,\n\u001b[1;32m     19\u001b[0m                 output_shape=None):\n\u001b[0;32m---> 20\u001b[0;31m     \u001b[0mres\u001b[0m \u001b[0;34m=\u001b[0m \u001b[0matleast_1d\u001b[0m\u001b[0;34m(\u001b[0m\u001b[0mthefunc\u001b[0m\u001b[0;34m(\u001b[0m\u001b[0;34m*\u001b[0m\u001b[0;34m(\u001b[0m\u001b[0;34m(\u001b[0m\u001b[0mx0\u001b[0m\u001b[0;34m[\u001b[0m\u001b[0;34m:\u001b[0m\u001b[0mnuminputs\u001b[0m\u001b[0;34m]\u001b[0m\u001b[0;34m,\u001b[0m\u001b[0;34m)\u001b[0m \u001b[0;34m+\u001b[0m \u001b[0margs\u001b[0m\u001b[0;34m)\u001b[0m\u001b[0;34m)\u001b[0m\u001b[0;34m)\u001b[0m\u001b[0;34m\u001b[0m\u001b[0m\n\u001b[0m\u001b[1;32m     21\u001b[0m     \u001b[0;32mif\u001b[0m \u001b[0;34m(\u001b[0m\u001b[0moutput_shape\u001b[0m \u001b[0;32mis\u001b[0m \u001b[0;32mnot\u001b[0m \u001b[0mNone\u001b[0m\u001b[0;34m)\u001b[0m \u001b[0;32mand\u001b[0m \u001b[0;34m(\u001b[0m\u001b[0mshape\u001b[0m\u001b[0;34m(\u001b[0m\u001b[0mres\u001b[0m\u001b[0;34m)\u001b[0m \u001b[0;34m!=\u001b[0m \u001b[0moutput_shape\u001b[0m\u001b[0;34m)\u001b[0m\u001b[0;34m:\u001b[0m\u001b[0;34m\u001b[0m\u001b[0m\n\u001b[1;32m     22\u001b[0m         \u001b[0;32mif\u001b[0m \u001b[0;34m(\u001b[0m\u001b[0moutput_shape\u001b[0m\u001b[0;34m[\u001b[0m\u001b[0;36m0\u001b[0m\u001b[0;34m]\u001b[0m \u001b[0;34m!=\u001b[0m \u001b[0;36m1\u001b[0m\u001b[0;34m)\u001b[0m\u001b[0;34m:\u001b[0m\u001b[0;34m\u001b[0m\u001b[0m\n",
      "\u001b[0;32m/Users/drpugh/Research/python-dev/pyCollocation/pycollocation/orthogonal_polynomials.pyc\u001b[0m in \u001b[0;36m_evaluate_collocation_residuals\u001b[0;34m(self, coefs_array, kind, domain, degrees)\u001b[0m\n\u001b[1;32m    115\u001b[0m         \u001b[0;31m# evaluate residual functions at the collocation nodes\u001b[0m\u001b[0;34m\u001b[0m\u001b[0;34m\u001b[0m\u001b[0m\n\u001b[1;32m    116\u001b[0m         \u001b[0mresiduals\u001b[0m \u001b[0;34m=\u001b[0m \u001b[0mself\u001b[0m\u001b[0;34m.\u001b[0m\u001b[0m_evaluate_residual_funcs\u001b[0m\u001b[0;34m(\u001b[0m\u001b[0mresidual_funcs\u001b[0m\u001b[0;34m,\u001b[0m \u001b[0mnodes\u001b[0m\u001b[0;34m)\u001b[0m\u001b[0;34m\u001b[0m\u001b[0m\n\u001b[0;32m--> 117\u001b[0;31m         \u001b[0mboundary_residuals\u001b[0m \u001b[0;34m=\u001b[0m \u001b[0mself\u001b[0m\u001b[0;34m.\u001b[0m\u001b[0m_evaluate_boundary_residuals\u001b[0m\u001b[0;34m(\u001b[0m\u001b[0mfuncs\u001b[0m\u001b[0;34m,\u001b[0m \u001b[0mdomain\u001b[0m\u001b[0;34m)\u001b[0m\u001b[0;34m\u001b[0m\u001b[0m\n\u001b[0m\u001b[1;32m    118\u001b[0m         \u001b[0mcollocation_residuals\u001b[0m \u001b[0;34m=\u001b[0m \u001b[0mresiduals\u001b[0m \u001b[0;34m+\u001b[0m \u001b[0mboundary_residuals\u001b[0m\u001b[0;34m\u001b[0m\u001b[0m\n\u001b[1;32m    119\u001b[0m \u001b[0;34m\u001b[0m\u001b[0m\n",
      "\u001b[0;32m/Users/drpugh/Research/python-dev/pyCollocation/pycollocation/solvers.pyc\u001b[0m in \u001b[0;36m_evaluate_boundary_residuals\u001b[0;34m(self, basis_funcs, domain)\u001b[0m\n\u001b[1;32m    151\u001b[0m     \u001b[0;32mdef\u001b[0m \u001b[0m_evaluate_boundary_residuals\u001b[0m\u001b[0;34m(\u001b[0m\u001b[0mself\u001b[0m\u001b[0;34m,\u001b[0m \u001b[0mbasis_funcs\u001b[0m\u001b[0;34m,\u001b[0m \u001b[0mdomain\u001b[0m\u001b[0;34m)\u001b[0m\u001b[0;34m:\u001b[0m\u001b[0;34m\u001b[0m\u001b[0m\n\u001b[1;32m    152\u001b[0m         \u001b[0;34m\"\"\"Return a list of boundary conditions evaluated on the domain.\"\"\"\u001b[0m\u001b[0;34m\u001b[0m\u001b[0m\n\u001b[0;32m--> 153\u001b[0;31m         \u001b[0mlower_residual\u001b[0m \u001b[0;34m=\u001b[0m \u001b[0mself\u001b[0m\u001b[0;34m.\u001b[0m\u001b[0m_evaluate_lower_boundary_residual\u001b[0m\u001b[0;34m(\u001b[0m\u001b[0mbasis_funcs\u001b[0m\u001b[0;34m,\u001b[0m \u001b[0mdomain\u001b[0m\u001b[0;34m[\u001b[0m\u001b[0;36m0\u001b[0m\u001b[0;34m]\u001b[0m\u001b[0;34m)\u001b[0m\u001b[0;34m\u001b[0m\u001b[0m\n\u001b[0m\u001b[1;32m    154\u001b[0m         \u001b[0mupper_residual\u001b[0m \u001b[0;34m=\u001b[0m \u001b[0mself\u001b[0m\u001b[0;34m.\u001b[0m\u001b[0m_evaluate_upper_boundary_residual\u001b[0m\u001b[0;34m(\u001b[0m\u001b[0mbasis_funcs\u001b[0m\u001b[0;34m,\u001b[0m \u001b[0mdomain\u001b[0m\u001b[0;34m[\u001b[0m\u001b[0;36m1\u001b[0m\u001b[0;34m]\u001b[0m\u001b[0;34m)\u001b[0m\u001b[0;34m\u001b[0m\u001b[0m\n\u001b[1;32m    155\u001b[0m \u001b[0;34m\u001b[0m\u001b[0m\n",
      "\u001b[0;32m/Users/drpugh/Research/python-dev/pyCollocation/pycollocation/solvers.pyc\u001b[0m in \u001b[0;36m_evaluate_lower_boundary_residual\u001b[0;34m(self, basis_funcs, lower_bound)\u001b[0m\n\u001b[1;32m    164\u001b[0m     \u001b[0;32mdef\u001b[0m \u001b[0m_evaluate_lower_boundary_residual\u001b[0m\u001b[0;34m(\u001b[0m\u001b[0mself\u001b[0m\u001b[0;34m,\u001b[0m \u001b[0mbasis_funcs\u001b[0m\u001b[0;34m,\u001b[0m \u001b[0mlower_bound\u001b[0m\u001b[0;34m)\u001b[0m\u001b[0;34m:\u001b[0m\u001b[0;34m\u001b[0m\u001b[0m\n\u001b[1;32m    165\u001b[0m         \u001b[0;34m\"\"\"Return the lower boundary condition evaluated on the domain.\"\"\"\u001b[0m\u001b[0;34m\u001b[0m\u001b[0m\n\u001b[0;32m--> 166\u001b[0;31m         \u001b[0;32mif\u001b[0m \u001b[0mself\u001b[0m\u001b[0;34m.\u001b[0m\u001b[0mmodel\u001b[0m\u001b[0;34m.\u001b[0m\u001b[0m_lower_boundary_condition\u001b[0m \u001b[0;32mis\u001b[0m \u001b[0;32mnot\u001b[0m \u001b[0mNone\u001b[0m\u001b[0;34m:\u001b[0m\u001b[0;34m\u001b[0m\u001b[0m\n\u001b[0m\u001b[1;32m    167\u001b[0m             args = (self._evaluate_basis_funcs(basis_funcs, lower_bound) +\n\u001b[1;32m    168\u001b[0m                     list(self.model.params.values()))\n",
      "\u001b[0;32m/Users/drpugh/Research/python-dev/pyCollocation/pycollocation/bvp.pyc\u001b[0m in \u001b[0;36m_lower_boundary_condition\u001b[0;34m(self)\u001b[0m\n\u001b[1;32m     72\u001b[0m     \u001b[0;32mdef\u001b[0m \u001b[0m_lower_boundary_condition\u001b[0m\u001b[0;34m(\u001b[0m\u001b[0mself\u001b[0m\u001b[0;34m)\u001b[0m\u001b[0;34m:\u001b[0m\u001b[0;34m\u001b[0m\u001b[0m\n\u001b[1;32m     73\u001b[0m         \u001b[0;34m\"\"\"Cache lambdified lower boundary condition for numerical evaluation.\"\"\"\u001b[0m\u001b[0;34m\u001b[0m\u001b[0m\n\u001b[0;32m---> 74\u001b[0;31m         \u001b[0mcondition\u001b[0m \u001b[0;34m=\u001b[0m \u001b[0mself\u001b[0m\u001b[0;34m.\u001b[0m\u001b[0mboundary_conditions\u001b[0m\u001b[0;34m[\u001b[0m\u001b[0;34m'lower'\u001b[0m\u001b[0;34m]\u001b[0m\u001b[0;34m\u001b[0m\u001b[0m\n\u001b[0m\u001b[1;32m     75\u001b[0m         \u001b[0;32mif\u001b[0m \u001b[0mcondition\u001b[0m \u001b[0;32mis\u001b[0m \u001b[0;32mnot\u001b[0m \u001b[0mNone\u001b[0m\u001b[0;34m:\u001b[0m\u001b[0;34m\u001b[0m\u001b[0m\n\u001b[1;32m     76\u001b[0m             \u001b[0;32mif\u001b[0m \u001b[0mself\u001b[0m\u001b[0;34m.\u001b[0m\u001b[0m__lower_boundary_condition\u001b[0m \u001b[0;32mis\u001b[0m \u001b[0mNone\u001b[0m\u001b[0;34m:\u001b[0m\u001b[0;34m\u001b[0m\u001b[0m\n",
      "\u001b[0;32m<ipython-input-22-d197c608ade1>\u001b[0m in \u001b[0;36mboundary_conditions\u001b[0;34m(self)\u001b[0m\n\u001b[1;32m     40\u001b[0m         \u001b[0;34m\"\"\"Boundary conditions for the model.\"\"\"\u001b[0m\u001b[0;34m\u001b[0m\u001b[0m\n\u001b[1;32m     41\u001b[0m         \u001b[0mk0\u001b[0m \u001b[0;34m=\u001b[0m \u001b[0mself\u001b[0m\u001b[0;34m.\u001b[0m\u001b[0m_initial_condition_capital\u001b[0m\u001b[0;34m\u001b[0m\u001b[0m\n\u001b[0;32m---> 42\u001b[0;31m         \u001b[0mc_star\u001b[0m \u001b[0;34m=\u001b[0m \u001b[0mself\u001b[0m\u001b[0;34m.\u001b[0m\u001b[0msteady_state_consumption\u001b[0m\u001b[0;34m(\u001b[0m\u001b[0;34m**\u001b[0m\u001b[0mself\u001b[0m\u001b[0;34m.\u001b[0m\u001b[0mparams\u001b[0m\u001b[0;34m)\u001b[0m\u001b[0;34m\u001b[0m\u001b[0m\n\u001b[0m\u001b[1;32m     43\u001b[0m         bcs = {'lower': [self._symbolic_vars[1] - k0],\n\u001b[1;32m     44\u001b[0m                'upper': [self._symbolic_vars[2] - c_star]}\n",
      "\u001b[0;31mAttributeError\u001b[0m: 'RamseyProblem' object has no attribute 'steady_state_consumption'"
     ]
    }
   ],
   "source": [
    "coefs_guess = initial_coefs(ts, ks, cs, 35, domain) \n",
    "solver.solve(kind=\"Chebyshev\",\n",
    "             coefs_dict=coefs_guess,\n",
    "             domain=domain)"
   ]
  },
  {
   "cell_type": "code",
   "execution_count": 27,
   "metadata": {
    "collapsed": false
   },
   "outputs": [
    {
     "data": {
      "text/plain": [
       "array([  4.37225405e+00,   1.29407760e+00,  -9.72862387e-01,\n",
       "         6.08921292e-01,  -3.18201558e-01,   1.37285311e-01,\n",
       "        -4.62850602e-02,   9.22882158e-03,   2.25265029e-03,\n",
       "        -4.07400457e-03,   3.21211999e-03,  -2.07493833e-03,\n",
       "         1.24105453e-03,  -7.22117265e-04,   4.18592259e-04,\n",
       "        -2.44435831e-04,   1.44396565e-04,  -8.63551433e-05,\n",
       "         5.22449113e-05,  -3.19390959e-05,   1.97071578e-05,\n",
       "        -1.22605018e-05,   7.68428916e-06,  -4.84844392e-06,\n",
       "         3.07792569e-06,  -1.96514557e-06,   1.26163055e-06,\n",
       "        -8.14606070e-07,   5.29424467e-07,  -3.47071441e-07,\n",
       "         2.30580740e-07,  -1.56776432e-07,   1.10978890e-07,\n",
       "        -8.39515497e-08,   4.59631210e-08,  -9.06485050e-09,\n",
       "         1.17873943e+00,   2.28498625e-01,  -1.76366595e-01,\n",
       "         1.16303877e-01,  -6.68076608e-02,   3.42707361e-02,\n",
       "        -1.62089828e-02,   7.36702585e-03,  -3.37782840e-03,\n",
       "         1.63268450e-03,  -8.50106910e-04,   4.74261607e-04,\n",
       "        -2.78167064e-04,   1.68519209e-04,  -1.04250866e-04,\n",
       "         6.54391427e-05,  -4.15333271e-05,   2.65970433e-05,\n",
       "        -1.71602060e-05,   1.11430936e-05,  -7.27662551e-06,\n",
       "         4.77545510e-06,  -3.14799526e-06,   2.08356680e-06,\n",
       "        -1.38419780e-06,   9.22827089e-07,  -6.17389026e-07,\n",
       "         4.14583842e-07,  -2.79625272e-07,   1.89715826e-07,\n",
       "        -1.29871121e-07,   9.02377686e-08,  -6.43792306e-08,\n",
       "         4.78481011e-08,  -3.82330997e-08,   1.72751855e-08])"
      ]
     },
     "execution_count": 27,
     "metadata": {},
     "output_type": "execute_result"
    }
   ],
   "source": [
    "solver.result.x"
   ]
  },
  {
   "cell_type": "code",
   "execution_count": 28,
   "metadata": {
    "collapsed": true
   },
   "outputs": [],
   "source": [
    "class RamseyVisualizer(pycollocation.Visualizer):\n",
    "    \n",
    "    def steady_state_capital_locus(self, k, delta, g, n, **params):\n",
    "        \"\"\"\n",
    "        Locus of points (k, c) such that :math:`\\dot{k}=0`.\n",
    "\n",
    "        Function returns the level of consumption (per unit\n",
    "        effective labor) required in order to maintain a given\n",
    "        level of capital (per unit effective labor).\n",
    "\n",
    "        \"\"\"\n",
    "        locus = (self.solver.model.intensive_output(k, **params) -\n",
    "                 self.solver.model.break_even_investment(k, delta, g, n, **params))\n",
    "        return locus"
   ]
  },
  {
   "cell_type": "code",
   "execution_count": 29,
   "metadata": {
    "collapsed": true
   },
   "outputs": [],
   "source": [
    "# now create a visualizer for plot the solution...\n",
    "visualizer = pycollocation.Visualizer(solver)"
   ]
  },
  {
   "cell_type": "code",
   "execution_count": 30,
   "metadata": {
    "collapsed": false
   },
   "outputs": [
    {
     "data": {
      "image/png": "[encoded data removed]",
      "text/plain": [
       "<matplotlib.figure.Figure at 0x109d0a4d0>"
      ]
     },
     "metadata": {},
     "output_type": "display_data"
    }
   ],
   "source": [
    "# plot the solution\n",
    "visualizer.interpolation_knots = np.linspace(domain[0], domain[1], N)\n",
    "visualizer.solution.plot()\n",
    "plt.show()"
   ]
  },
  {
   "cell_type": "code",
   "execution_count": 31,
   "metadata": {
    "collapsed": false
   },
   "outputs": [
    {
     "data": {
      "image/png": "[encoded data removed]",
      "text/plain": [
       "<matplotlib.figure.Figure at 0x109d59d10>"
      ]
     },
     "metadata": {},
     "output_type": "display_data"
    }
   ],
   "source": [
    "# plot the normalized residuals (they should be small everywhere!)\n",
    "visualizer.normalized_residuals.plot(logy=True)\n",
    "plt.show()"
   ]
  },
  {
   "cell_type": "code",
   "execution_count": null,
   "metadata": {
    "collapsed": true
   },
   "outputs": [],
   "source": []
  },
  {
   "cell_type": "code",
   "execution_count": null,
   "metadata": {
    "collapsed": true
   },
   "outputs": [],
   "source": []
  }
 ],
 "metadata": {
  "kernelspec": {
   "display_name": "Python 2",
   "language": "python",
   "name": "python2"
  },
  "language_info": {
   "codemirror_mode": {
    "name": "ipython",
    "version": 2
   },
   "file_extension": ".py",
   "mimetype": "text/x-python",
   "name": "python",
   "nbconvert_exporter": "python",
   "pygments_lexer": "ipython2",
   "version": "2.7.10"
  }
 },
 "nbformat": 4,
 "nbformat_minor": 0
}
