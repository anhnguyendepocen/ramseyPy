{
 "cells": [
  {
   "cell_type": "markdown",
   "metadata": {},
   "source": [
    "# Ramsey-Cass-Koopmans model\n",
    "\n",
    "Ramsey model from Chapter 2 of D. Romer's *Advanced Economics* looks as follows...\n",
    "\n",
    "\\begin{align}\n",
    "    \\dot{k}(t) =& k(t)^{\\alpha} - c(t) - (g + n + \\delta)k(t),\\\\\n",
    "    \\dot{c}(t) =& \\Bigg[\\frac{1}{\\theta} \\bigg[\\alpha k(t)^{\\alpha - 1} - \\delta - \\rho - \\theta g\\bigg]\\Bigg]c(t)\n",
    "\\end{align}\n",
    "...with boundary conditions...\n",
    "\\begin{align}\n",
    "    k(0) =& k_0 \\\\\n",
    "    lim_{t\\rightarrow \\infty} c(t) =& c^*\n",
    "\\end{align}\n",
    "\n",
    "...where...\n",
    "\n",
    "* Elasticity of output with respect to capital: $0 < \\alpha < 1$\n",
    "* Coefficient of relative risk aversion: $0 < \\theta$\n",
    "* Discount rate: $0 < \\rho$\n",
    "* Breakeven investment: $0 < g + n + \\delta$\n",
    "* Convergent lifetime utility: $0 < \\rho - n - (1 - \\theta)g$\n",
    "\n",
    "Note that we are assuming two things...\n",
    "\n",
    "1. Cobb-Douglas production\n",
    "2. Constant Relative Risk Aversion (CRRA) preferences\n",
    "\n"
   ]
  },
  {
   "cell_type": "code",
   "execution_count": 1,
   "metadata": {
    "collapsed": true
   },
   "outputs": [],
   "source": [
    "%matplotlib inline"
   ]
  },
  {
   "cell_type": "code",
   "execution_count": 2,
   "metadata": {
    "collapsed": true
   },
   "outputs": [],
   "source": [
    "import numpy as np\n",
    "import matplotlib.pyplot as plt\n",
    "import seaborn as sn\n",
    "import sympy as sym\n",
    "\n",
    "import pycollocation"
   ]
  },
  {
   "cell_type": "code",
   "execution_count": 3,
   "metadata": {
    "collapsed": true
   },
   "outputs": [],
   "source": [
    "# define some variables\n",
    "t, k, c, C, A, K, L, r  = sym.symbols(\"t, k, c, C, A, K, L, r\")"
   ]
  },
  {
   "cell_type": "code",
   "execution_count": 4,
   "metadata": {
    "collapsed": false
   },
   "outputs": [],
   "source": [
    "# define some initial conditions\n",
    "A0, L0 = sym.symbols(\"A0, L0\")\n",
    "\n",
    "# define some production parameters\n",
    "alpha, delta = sym.symbols(\"alpha, delta\")\n",
    "\n",
    "# define growth rates\n",
    "g, n = sym.symbols(\"g, n\")\n",
    "\n",
    "# define some preference parameters\n",
    "theta, rho = sym.symbols(\"theta, rho\")"
   ]
  },
  {
   "cell_type": "code",
   "execution_count": 5,
   "metadata": {
    "collapsed": false
   },
   "outputs": [],
   "source": [
    "# user defined extensive production function\n",
    "def extensive_output(A, K, L, **params):\n",
    "    \"\"\"Output is a function of technology, A, capital, K, and labor, L.\"\"\"\n",
    "    alpha = params['alpha']\n",
    "    return K**alpha * (A * L)**(1 - alpha)\n",
    "\n",
    "def flow_utility(C, **params):\n",
    "    \"\"\"Flow utility from consumption (per capita).\"\"\"\n",
    "    theta = params['theta']\n",
    "    return (C**(1 - theta) - 1) / (1 - theta)\n",
    "\n",
    "def steady_state_capital(A0, delta, g, n, rho, alpha, theta):\n",
    "    \"\"\"\n",
    "    Equilibrium value of capital (per unit effective labor) with\n",
    "    Cobb-Douglas production and Constant Relative Risk Aversion (CRRA)\n",
    "    preferences.\n",
    "    \n",
    "    \"\"\"\n",
    "    return (alpha / (delta + rho + theta * g))**(1 / (1 - alpha))\n"
   ]
  },
  {
   "cell_type": "code",
   "execution_count": 33,
   "metadata": {
    "collapsed": false
   },
   "outputs": [],
   "source": [
    "class RamseyModelLike(object):\n",
    "\n",
    "    def marginal_product_capital(A, K, L, **params):\n",
    "        \"\"\"Marginal product of labor.\"\"\"\n",
    "        Y = extensive_output(A, K, L, **params)\n",
    "        return sym.diff(Y, K, 1)\n",
    "\n",
    "    def marginal_product_labor(A, K, L, **params):\n",
    "        \"\"\"Marginal product of labor.\"\"\"\n",
    "        Y = extensive_output(A, K, L, **params)\n",
    "        return sym.diff(Y, L, 1)\n",
    "\n",
    "    def intensive_output(k, **params):\n",
    "        \"\"\"\n",
    "        Intensive output is a function of capital (per unit effective labor)\n",
    "        and model parameters.\n",
    "\n",
    "        \"\"\"\n",
    "        return extensive_output(1, k, 1, **params) \n",
    "\n",
    "    def actual_investment(k, c, **params):\n",
    "        \"\"\"Return investment (per unit effective labor).\"\"\"\n",
    "        return intensive_output(k, **params) - c\n",
    "\n",
    "    def break_even_investment(k, delta, g, n, **params):\n",
    "        \"\"\"\n",
    "        Return level of investment (per unit effective labor) required\n",
    "        to maintain current level of capital (per unit effective labor).\n",
    "\n",
    "        \"\"\"\n",
    "        return (g + n + delta) * k\n",
    "\n",
    "    def equation_motion_capital(self, t, k, c, A0, delta, g, n, rho, **params):\n",
    "        \"\"\"Equation of motion for capital (per unit effective labor).\"\"\"\n",
    "        k_dot = (actual_investment(k, c, **params) -\n",
    "                 break_even_investment(k, delta, g, n, **params))\n",
    "        return k_dot\n",
    "\n",
    "    def equation_motion_consumption(self, t, k, c, A0, delta, g, n, rho, **params):\n",
    "        \"\"\"Equation of motion for consumption (per unit effective labor.\"\"\"    \n",
    "        # dependence on global variable C and r!\n",
    "        C_growth_rate = consumption_euler_equation(C, r, rho, **params)\n",
    "        temp = C_growth_rate.subs({C: A0 * sym.exp(g * t) * c,\n",
    "                                   r: real_interest_rate(k, delta, **params)})\n",
    "        c_dot = (temp - g) * c\n",
    "        return c_dot\n",
    "\n",
    "    def real_interest_rate(k, delta, **params):\n",
    "        \"\"\"Return the real interest rate (net depreciation).\"\"\"\n",
    "        mpk = marginal_product_capital(1, k, 1, **params)\n",
    "        r = mpk - delta\n",
    "        return r\n",
    "\n",
    "    def relative_risk_aversion_coef(C, **params):\n",
    "        \"\"\"Return the coefficient of relative risk aversion.\"\"\"\n",
    "        u = flow_utility(C, **params)\n",
    "        crra = -((C * sym.diff(u, C, 2)) / sym.diff(u, C, 1))\n",
    "        return crra\n",
    "\n",
    "    def elasticity_intertemporal_substitution(C, **params):\n",
    "        \"\"\"\n",
    "        Elasticity of intertemporal substitution is reciprical of the\n",
    "        coefficient of relative risk aversion.\n",
    "\n",
    "        \"\"\"\n",
    "        epsilon = 1 / relative_risk_aversion_coef(C, **params)\n",
    "        return epsilon\n",
    "\n",
    "    def consumption_euler_equation(C, r, rho, **params):\n",
    "        \"\"\"\n",
    "        Representative household's consumption Euler equation.\n",
    "\n",
    "        The Euler equation implies that the growth rate of per\n",
    "        capita consumption is proportional to the difference\n",
    "        between the real interest rate and the discount rate of\n",
    "        the representative household.\n",
    "\n",
    "        \"\"\"\n",
    "        epsilon = elasticity_intertemporal_substitution(C, **params)\n",
    "        consumption_growth = epsilon * (r - rho)\n",
    "        return consumption_growth\n",
    "\n",
    "    def steady_state_capital_locus(k, delta, g, n, **params):\n",
    "        \"\"\"\n",
    "        Locus of points (k, c) such that :math:`\\dot{k}=0`.\n",
    "\n",
    "        Function returns the level of consumption (per unit\n",
    "        effective labor) required in order to maintain a given\n",
    "        level of capital (per unit effective labor).\n",
    "\n",
    "        \"\"\"\n",
    "        locus = (intensive_output(k, **params) -\n",
    "                 break_even_investment(k, delta, g, n, **params))\n",
    "        return locus\n",
    "\n",
    "    def steady_state_consumption(self, A0, delta, g, n, rho, **params):\n",
    "        \"\"\"Equilibrium value for consumption (per unit effective labor).\"\"\"\n",
    "        k_star = steady_state_capital(A0, delta, g, n, rho, **params)\n",
    "        c_star = steady_state_capital_locus(k_star, delta, g, n, **params)\n",
    "        return c_star\n"
   ]
  },
  {
   "cell_type": "code",
   "execution_count": 34,
   "metadata": {
    "collapsed": true
   },
   "outputs": [],
   "source": [
    "model = RamseyModelLike()"
   ]
  },
  {
   "cell_type": "code",
   "execution_count": 35,
   "metadata": {
    "collapsed": false
   },
   "outputs": [
    {
     "name": "stdout",
     "output_type": "stream",
     "text": [
      "{'k': -c - k*(delta + g + n) + k**alpha, 'c': c*(-g + (A0*c*exp(g*t))**(-theta + 1)*(A0*c*exp(g*t))**(theta - 1)*(alpha*k**alpha/k - delta - rho)/theta)}\n"
     ]
    }
   ],
   "source": [
    "# create a dictionary representing the RHS of our model\n",
    "k_dot = model.equation_motion_capital(t, k, c, A0, delta, g, n, rho,\n",
    "                                      alpha=alpha, theta=theta)\n",
    "c_dot = model.equation_motion_consumption(t, k, c, A0, delta, g, n, rho,\n",
    "                                          alpha=alpha, theta=theta)\n",
    "rhs = {'k': k_dot, 'c': c_dot}\n",
    "print rhs"
   ]
  },
  {
   "cell_type": "markdown",
   "metadata": {},
   "source": [
    "...next we do the same for consumption...\n",
    "\n",
    "\\begin{align}\n",
    "    0 =& k^{*\\alpha} - c^* - (g + n + \\delta)k^* \\\\\n",
    "    c^* =& k^{*\\alpha} - (g + n + \\delta)k^*\n",
    "\\end{align}"
   ]
  },
  {
   "cell_type": "code",
   "execution_count": null,
   "metadata": {
    "collapsed": false
   },
   "outputs": [],
   "source": []
  },
  {
   "cell_type": "code",
   "execution_count": 36,
   "metadata": {
    "collapsed": false
   },
   "outputs": [],
   "source": [
    "# finally we need to define some parameters...\n",
    "params = {'A0': 1.0, 'alpha': 0.33, 'delta': 0.04, 'theta': 1.05, 'rho': 0.05,\n",
    "          'g': 0.02, 'n': 0.02}"
   ]
  },
  {
   "cell_type": "code",
   "execution_count": 37,
   "metadata": {
    "collapsed": false
   },
   "outputs": [
    {
     "data": {
      "text/plain": [
       "1.303501661180578"
      ]
     },
     "execution_count": 37,
     "metadata": {},
     "output_type": "execute_result"
    }
   ],
   "source": [
    "# call function with numeric inputs and get a numeric result!\n",
    "model.steady_state_consumption(**params)"
   ]
  },
  {
   "cell_type": "code",
   "execution_count": 38,
   "metadata": {
    "collapsed": false
   },
   "outputs": [
    {
     "name": "stdout",
     "output_type": "stream",
     "text": [
      "{'upper': [c + (alpha/(delta + g*theta + rho))**(1/(-alpha + 1))*(delta + g + n) - ((alpha/(delta + g*theta + rho))**(1/(-alpha + 1)))**alpha], 'lower': [k - 1.0]}\n"
     ]
    }
   ],
   "source": [
    "# define some boundary conditions\n",
    "k0 = 1.0\n",
    "c_star = steady_state_consumption(A0=A0, alpha=alpha, delta=delta,\n",
    "                                  theta=theta, rho=rho, g=g, n=n)\n",
    "\n",
    "bcs = {'lower': [k - k0],\n",
    "       'upper': [c - c_star]}\n",
    "print bcs"
   ]
  },
  {
   "cell_type": "code",
   "execution_count": null,
   "metadata": {
    "collapsed": true
   },
   "outputs": [],
   "source": []
  },
  {
   "cell_type": "markdown",
   "metadata": {},
   "source": [
    "## Using pyCollocation"
   ]
  },
  {
   "cell_type": "code",
   "execution_count": 39,
   "metadata": {
    "collapsed": true
   },
   "outputs": [],
   "source": [
    "bvp = pycollocation.SymbolicBoundaryValueProblem(dependent_vars=['k', 'c'],\n",
    "                                                 independent_var='t',\n",
    "                                                 rhs=rhs,\n",
    "                                                 boundary_conditions=bcs,\n",
    "                                                 params=params)"
   ]
  },
  {
   "cell_type": "code",
   "execution_count": 40,
   "metadata": {
    "collapsed": true
   },
   "outputs": [],
   "source": [
    "solver = pycollocation.OrthogonalPolynomialSolver(bvp)"
   ]
  },
  {
   "cell_type": "code",
   "execution_count": 42,
   "metadata": {
    "collapsed": false
   },
   "outputs": [
    {
     "data": {
      "text/plain": [
       "5.084580947867504"
      ]
     },
     "execution_count": 42,
     "metadata": {},
     "output_type": "execute_result"
    }
   ],
   "source": [
    "# now this works for numerical values as well!\n",
    "steady_state_capital(**params)"
   ]
  },
  {
   "cell_type": "code",
   "execution_count": 43,
   "metadata": {
    "collapsed": false
   },
   "outputs": [],
   "source": [
    "# define our domain of approximation\n",
    "domain = [0.0, 100.0]\n",
    "\n",
    "# initial guess for capital\n",
    "N = 1000\n",
    "ts = np.linspace(domain[0], domain[1], N)\n",
    "ks = steady_state_capital(**params) - (steady_state_capital(**params) - k0) * np.exp(-ts)\n",
    "cs = np.log(ks)\n",
    "\n",
    "def initial_polynomial(ts, xs, deg, domain):\n",
    "    \"\"\"Eventually need some to link to underlying basis functions!\"\"\"\n",
    "    return np.polynomial.Chebyshev.fit(ts, ks, deg, domain)\n",
    "\n",
    "def initial_coefs(ts, ks, cs, deg, domain):\n",
    "    \"\"\"Return dictionary of coefs.\"\"\"\n",
    "    capital = initial_polynomial(ts, ks, deg, domain)\n",
    "    consumption = initial_polynomial(ts, cs, deg, domain)\n",
    "    coefs = {'k': capital.coef, 'c': consumption.coef}\n",
    "    return coefs"
   ]
  },
  {
   "cell_type": "code",
   "execution_count": 44,
   "metadata": {
    "collapsed": false
   },
   "outputs": [],
   "source": [
    "coefs_guess = initial_coefs(ts, ks, cs, 35, domain) \n",
    "solver.solve(kind=\"Chebyshev\",\n",
    "             coefs_dict=coefs_guess,\n",
    "             domain=domain)"
   ]
  },
  {
   "cell_type": "code",
   "execution_count": 45,
   "metadata": {
    "collapsed": false
   },
   "outputs": [
    {
     "data": {
      "text/plain": [
       "array([  4.37225405e+00,   1.29407760e+00,  -9.72862387e-01,\n",
       "         6.08921292e-01,  -3.18201558e-01,   1.37285311e-01,\n",
       "        -4.62850602e-02,   9.22882156e-03,   2.25265028e-03,\n",
       "        -4.07400457e-03,   3.21212000e-03,  -2.07493833e-03,\n",
       "         1.24105453e-03,  -7.22117266e-04,   4.18592261e-04,\n",
       "        -2.44435831e-04,   1.44396564e-04,  -8.63551432e-05,\n",
       "         5.22449115e-05,  -3.19390960e-05,   1.97071578e-05,\n",
       "        -1.22605018e-05,   7.68428915e-06,  -4.84844391e-06,\n",
       "         3.07792569e-06,  -1.96514557e-06,   1.26163055e-06,\n",
       "        -8.14606070e-07,   5.29424467e-07,  -3.47071441e-07,\n",
       "         2.30580740e-07,  -1.56776432e-07,   1.10978890e-07,\n",
       "        -8.39515497e-08,   4.59631210e-08,  -9.06485047e-09,\n",
       "         1.17873943e+00,   2.28498625e-01,  -1.76366595e-01,\n",
       "         1.16303877e-01,  -6.68076608e-02,   3.42707361e-02,\n",
       "        -1.62089828e-02,   7.36702585e-03,  -3.37782840e-03,\n",
       "         1.63268450e-03,  -8.50106911e-04,   4.74261609e-04,\n",
       "        -2.78167064e-04,   1.68519209e-04,  -1.04250866e-04,\n",
       "         6.54391430e-05,  -4.15333271e-05,   2.65970432e-05,\n",
       "        -1.71602059e-05,   1.11430937e-05,  -7.27662553e-06,\n",
       "         4.77545511e-06,  -3.14799525e-06,   2.08356680e-06,\n",
       "        -1.38419779e-06,   9.22827088e-07,  -6.17389026e-07,\n",
       "         4.14583842e-07,  -2.79625272e-07,   1.89715826e-07,\n",
       "        -1.29871121e-07,   9.02377687e-08,  -6.43792306e-08,\n",
       "         4.78481011e-08,  -3.82330998e-08,   1.72751855e-08])"
      ]
     },
     "execution_count": 45,
     "metadata": {},
     "output_type": "execute_result"
    }
   ],
   "source": [
    "solver.result.x"
   ]
  },
  {
   "cell_type": "code",
   "execution_count": 46,
   "metadata": {
    "collapsed": true
   },
   "outputs": [],
   "source": [
    "# now create a visualizer for plot the solution...\n",
    "visualizer = pycollocation.Visualizer(solver)"
   ]
  },
  {
   "cell_type": "code",
   "execution_count": 47,
   "metadata": {
    "collapsed": false
   },
   "outputs": [
    {
     "data": {
      "image/png": "[encoded data removed]",
      "text/plain": [
       "<matplotlib.figure.Figure at 0x1179e9e10>"
      ]
     },
     "metadata": {},
     "output_type": "display_data"
    }
   ],
   "source": [
    "# plot the solution\n",
    "visualizer.interpolation_knots = np.linspace(domain[0], domain[1], N)\n",
    "visualizer.solution.plot()\n",
    "plt.show()"
   ]
  },
  {
   "cell_type": "code",
   "execution_count": 48,
   "metadata": {
    "collapsed": false
   },
   "outputs": [
    {
     "data": {
      "image/png": "[encoded data removed]",
      "text/plain": [
       "<matplotlib.figure.Figure at 0x117c9ba90>"
      ]
     },
     "metadata": {},
     "output_type": "display_data"
    }
   ],
   "source": [
    "# plot the normalized residuals (they should be small everywhere!)\n",
    "visualizer.normalized_residuals.plot(logy=True)\n",
    "plt.show()"
   ]
  },
  {
   "cell_type": "code",
   "execution_count": null,
   "metadata": {
    "collapsed": true
   },
   "outputs": [],
   "source": []
  },
  {
   "cell_type": "code",
   "execution_count": null,
   "metadata": {
    "collapsed": true
   },
   "outputs": [],
   "source": []
  }
 ],
 "metadata": {
  "kernelspec": {
   "display_name": "Python 2",
   "language": "python",
   "name": "python2"
  },
  "language_info": {
   "codemirror_mode": {
    "name": "ipython",
    "version": 2
   },
   "file_extension": ".py",
   "mimetype": "text/x-python",
   "name": "python",
   "nbconvert_exporter": "python",
   "pygments_lexer": "ipython2",
   "version": "2.7.10"
  }
 },
 "nbformat": 4,
 "nbformat_minor": 0
}
