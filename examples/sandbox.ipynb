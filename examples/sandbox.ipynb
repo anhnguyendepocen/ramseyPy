{
 "cells": [
  {
   "cell_type": "markdown",
   "metadata": {},
   "source": [
    "# Ramsey-Cass-Koopmans model\n",
    "\n",
    "Ramsey model from Chapter 2 of D. Romer's *Advanced Economics* looks as follows...\n",
    "\n",
    "\\begin{align}\n",
    "    \\dot{k}(t) =& k(t)^{\\alpha} - c(t) - (g + n + \\delta)k(t),\\\\\n",
    "    \\dot{c}(t) =& \\Bigg[\\frac{1}{\\theta} \\bigg[\\alpha k(t)^{\\alpha - 1} - \\delta - \\rho - \\theta g\\bigg]\\Bigg]c(t)\n",
    "\\end{align}\n",
    "...with boundary conditions...\n",
    "\\begin{align}\n",
    "    k(0) =& k_0 \\\\\n",
    "    lim_{t\\rightarrow \\infty} c(t) =& c^*\n",
    "\\end{align}\n",
    "\n",
    "...where...\n",
    "\n",
    "* Elasticity of output with respect to capital: $0 < \\alpha < 1$\n",
    "* Coefficient of relative risk aversion: $0 < \\theta$\n",
    "* Discount rate: $0 < \\rho$\n",
    "* Breakeven investment: $0 < g + n + \\delta$\n",
    "* Convergent lifetime utility: $0 < \\rho - n - (1 - \\theta)g$\n",
    "\n",
    "Note that we are assuming two things...\n",
    "\n",
    "1. Cobb-Douglas production\n",
    "2. Constant Relative Risk Aversion (CRRA) preferences\n",
    "\n"
   ]
  },
  {
   "cell_type": "code",
   "execution_count": 1,
   "metadata": {
    "collapsed": true
   },
   "outputs": [],
   "source": [
    "%matplotlib inline"
   ]
  },
  {
   "cell_type": "code",
   "execution_count": 2,
   "metadata": {
    "collapsed": true
   },
   "outputs": [],
   "source": [
    "import numpy as np\n",
    "import matplotlib.pyplot as plt\n",
    "import seaborn as sn\n",
    "import sympy as sym\n",
    "\n",
    "import pycollocation"
   ]
  },
  {
   "cell_type": "code",
   "execution_count": 3,
   "metadata": {
    "collapsed": true
   },
   "outputs": [],
   "source": [
    "# define some variables\n",
    "A, K, L = sym.symbols(\"A, K, L\")"
   ]
  },
  {
   "cell_type": "code",
   "execution_count": 4,
   "metadata": {
    "collapsed": false
   },
   "outputs": [],
   "source": [
    "# define some initial conditions\n",
    "A0, L0 = sym.symbols(\"A0, L0\")\n",
    "\n",
    "# define some production parameters\n",
    "alpha, delta = sym.symbols(\"alpha, delta\")\n",
    "\n",
    "# define growth rates\n",
    "g, n = sym.symbols(\"g, n\")\n",
    "\n",
    "# define some preference parameters\n",
    "theta, rho = sym.symbols(\"theta, rho\")"
   ]
  },
  {
   "cell_type": "code",
   "execution_count": 5,
   "metadata": {
    "collapsed": false
   },
   "outputs": [],
   "source": [
    "# user defined extensive production function\n",
    "def extensive_output(A, K, L, **params):\n",
    "    \"\"\"Output is a function of technology, A, capital, K, and labor, L.\"\"\"\n",
    "    alpha = params['alpha']\n",
    "    return K**alpha * (A * L)**(1 - alpha)\n",
    "\n",
    "def flow_utility(C, **params):\n",
    "    \"\"\"Flow utility from consumption (per capita).\"\"\"\n",
    "    theta = params['theta']\n",
    "    return (C**(1 - theta) - 1) / (1 - theta)\n",
    "\n",
    "def steady_state_capital(A0, delta, g, n, rho, alpha, theta):\n",
    "    \"\"\"\n",
    "    Equilibrium value of capital (per unit effective labor) with\n",
    "    Cobb-Douglas production and Constant Relative Risk Aversion (CRRA)\n",
    "    preferences.\n",
    "    \n",
    "    \"\"\"\n",
    "    return (alpha / (delta + rho + theta * g))**(1 / (1 - alpha))\n"
   ]
  },
  {
   "cell_type": "code",
   "execution_count": 91,
   "metadata": {
    "collapsed": false
   },
   "outputs": [],
   "source": [
    "class RamseyModelLike(object):\n",
    "    \n",
    "    def __init__(self, F, u, params):\n",
    "        self.extensive_output = F\n",
    "        self.flow_utility = u\n",
    "        self.params = params\n",
    "        \n",
    "    @property\n",
    "    def _symbolic_params(self):\n",
    "        \"\"\"Return a dictionary of symbolic parameters.\"\"\"\n",
    "        return {key: sym.symbols(key) for key in self.params.iterkeys()}\n",
    "    \n",
    "    @property\n",
    "    def _symbolic_vars(self):\n",
    "        \"\"\"Return a list of symbolic variables.\"\"\"\n",
    "        return sym.symbols(['t', 'k', 'c'])\n",
    "    \n",
    "    @property\n",
    "    def c_dot(self):\n",
    "        \"\"\"Symbolic expression defining the equation of motion for consumption (per unit effective labor).\"\"\"\n",
    "        return self.equation_motion_consumption(*self._symbolic_vars, **self._symbolic_params)\n",
    "        \n",
    "    @property\n",
    "    def consumption_euler_equation(self):\n",
    "        \"\"\"\n",
    "        Representative household's consumption Euler equation.\n",
    "\n",
    "        The Euler equation implies that the growth rate of per\n",
    "        capita consumption is proportional to the difference\n",
    "        between the real interest rate and the discount rate of\n",
    "        the representative household.\n",
    "\n",
    "        \"\"\"\n",
    "        epsilon = self.elasticity_intertemporal_substitution\n",
    "        r = self.real_interest_rate\n",
    "        consumption_growth = epsilon * (r - self._symbolic_params['rho'])\n",
    "        return consumption_growth\n",
    "    \n",
    "    @property\n",
    "    def elasticity_intertemporal_substitution(self):\n",
    "        \"\"\"\n",
    "        Elasticity of intertemporal substitution is reciprical of the\n",
    "        coefficient of relative risk aversion.\n",
    "\n",
    "        \"\"\"\n",
    "        return 1 / self.relative_risk_aversion_coef\n",
    "\n",
    "    @property\n",
    "    def k_dot(self):\n",
    "        \"\"\"Symbolic expression defining the equation of motion for capital stock (per unit effective labor).\"\"\"\n",
    "        return self.equation_motion_capital(*self._symbolic_vars, **self._symbolic_params)\n",
    "    \n",
    "    @property\n",
    "    def real_interest_rate(self):\n",
    "        \"\"\"Return the real interest rate (net depreciation).\"\"\"\n",
    "        Y = self.extensive_output(1, self._symbolic_vars[1], 1,\n",
    "                                  **self._symbolic_params)\n",
    "        mpk = self.marginal_product_capital(Y, self._symbolic_vars[1])\n",
    "        return mpk - self._symbolic_params['delta']\n",
    "        \n",
    "    @property\n",
    "    def relative_risk_aversion_coef(self):\n",
    "        \"\"\"Return the coefficient of relative risk aversion.\"\"\"\n",
    "        C = sym.symbols(\"C\")\n",
    "        u = self.flow_utility(C, **self._symbolic_params)\n",
    "        crra = -((C * sym.diff(u, C, 2)) / sym.diff(u, C, 1))\n",
    "        return crra\n",
    "    \n",
    "    @property\n",
    "    def rhs(self):\n",
    "        \"\"\"Symbolic expressions for the RHS of the system of ODE.\"\"\"\n",
    "        return {'k': self.k_dot, 'c': self.c_dot}\n",
    "    \n",
    "    def intensive_output(self, k, **params):\n",
    "        \"\"\"\n",
    "        Intensive output is a function of capital (per unit effective labor)\n",
    "        and model parameters.\n",
    "\n",
    "        \"\"\"\n",
    "        return self.extensive_output(1, k, 1, **params) \n",
    "    \n",
    "    @staticmethod\n",
    "    def marginal_product_capital(Y, K):\n",
    "        \"\"\"Marginal product of capital.\"\"\"\n",
    "        return sym.diff(Y, K, 1)\n",
    "\n",
    "    @staticmethod\n",
    "    def marginal_product_labor(Y, L):\n",
    "        \"\"\"Marginal product of labor.\"\"\"\n",
    "        return sym.diff(Y, L, 1)\n",
    "\n",
    "    def actual_investment(self, k, c, **params):\n",
    "        \"\"\"Return investment (per unit effective labor).\"\"\"\n",
    "        return self.intensive_output(k, **params) - c\n",
    "\n",
    "    @staticmethod\n",
    "    def break_even_investment(k, delta, g, n, **params):\n",
    "        \"\"\"\n",
    "        Return level of investment (per unit effective labor) required\n",
    "        to maintain current level of capital (per unit effective labor).\n",
    "\n",
    "        \"\"\"\n",
    "        return (g + n + delta) * k\n",
    "\n",
    "    def equation_motion_capital(self, t, k, c, A0, delta, g, n, rho, **params):\n",
    "        \"\"\"Equation of motion for capital (per unit effective labor).\"\"\"\n",
    "        k_dot = (self.actual_investment(k, c, **params) -\n",
    "                 self.break_even_investment(k, delta, g, n, **params))\n",
    "        return k_dot\n",
    "\n",
    "    @classmethod\n",
    "    def equation_motion_consumption(cls, t, k, c, A0, delta, g, n, rho, **params):\n",
    "        \"\"\"Equation of motion for consumption (per unit effective labor.\"\"\"    \n",
    "        # dependence on global variable C and r!\n",
    "        C, r = sym.symbols(\"C, r\")\n",
    "        C_growth_rate = cls.consumption_euler_equation(C, r, rho, **params)\n",
    "        temp = C_growth_rate.subs({C: A0 * sym.exp(g * t) * c,\n",
    "                                   r: cls.real_interest_rate(k, delta, **params)})\n",
    "        c_dot = (temp - g) * c\n",
    "        return c_dot\n",
    "\n",
    "    def steady_state_capital_locus(k, delta, g, n, **params):\n",
    "        \"\"\"\n",
    "        Locus of points (k, c) such that :math:`\\dot{k}=0`.\n",
    "\n",
    "        Function returns the level of consumption (per unit\n",
    "        effective labor) required in order to maintain a given\n",
    "        level of capital (per unit effective labor).\n",
    "\n",
    "        \"\"\"\n",
    "        locus = (intensive_output(k, **params) -\n",
    "                 break_even_investment(k, delta, g, n, **params))\n",
    "        return locus\n",
    "\n",
    "    def steady_state_consumption(self, A0, delta, g, n, rho, **params):\n",
    "        \"\"\"Equilibrium value for consumption (per unit effective labor).\"\"\"\n",
    "        k_star = steady_state_capital(A0, delta, g, n, rho, **params)\n",
    "        c_star = steady_state_capital_locus(k_star, delta, g, n, **params)\n",
    "        return c_star\n",
    "            "
   ]
  },
  {
   "cell_type": "code",
   "execution_count": 92,
   "metadata": {
    "collapsed": false
   },
   "outputs": [],
   "source": [
    "# finally we need to define some parameters...\n",
    "params = {'A0': 1.0, 'alpha': 0.33, 'delta': 0.04, 'theta': 1.05, 'rho': 0.05,\n",
    "          'g': 0.02, 'n': 0.02}\n",
    "\n",
    "model = RamseyModelLike(extensive_output, flow_utility, params)"
   ]
  },
  {
   "cell_type": "code",
   "execution_count": 93,
   "metadata": {
    "collapsed": false
   },
   "outputs": [
    {
     "data": {
      "text/plain": [
       "C**(-theta + 1)*C**(theta - 1)/theta"
      ]
     },
     "execution_count": 93,
     "metadata": {},
     "output_type": "execute_result"
    }
   ],
   "source": [
    "model.elasticity_intertemporal_substitution"
   ]
  },
  {
   "cell_type": "code",
   "execution_count": 94,
   "metadata": {
    "collapsed": false
   },
   "outputs": [
    {
     "name": "stdout",
     "output_type": "stream",
     "text": [
      "-c - k*(delta + g + n) + k**alpha\n"
     ]
    }
   ],
   "source": [
    "# create a dictionary representing the RHS of our model\n",
    "print model.k_dot"
   ]
  },
  {
   "cell_type": "code",
   "execution_count": 95,
   "metadata": {
    "collapsed": false
   },
   "outputs": [
    {
     "data": {
      "text/plain": [
       "alpha*k**alpha/k - delta"
      ]
     },
     "execution_count": 95,
     "metadata": {},
     "output_type": "execute_result"
    }
   ],
   "source": [
    "model.real_interest_rate"
   ]
  },
  {
   "cell_type": "code",
   "execution_count": 97,
   "metadata": {
    "collapsed": false
   },
   "outputs": [
    {
     "data": {
      "text/plain": [
       "(alpha*k**alpha - k*(delta + rho))/(k*theta)"
      ]
     },
     "execution_count": 97,
     "metadata": {},
     "output_type": "execute_result"
    }
   ],
   "source": [
    "model.consumption_euler_equation.simplify()"
   ]
  },
  {
   "cell_type": "markdown",
   "metadata": {},
   "source": [
    "...next we do the same for consumption...\n",
    "\n",
    "\\begin{align}\n",
    "    0 =& k^{*\\alpha} - c^* - (g + n + \\delta)k^* \\\\\n",
    "    c^* =& k^{*\\alpha} - (g + n + \\delta)k^*\n",
    "\\end{align}"
   ]
  },
  {
   "cell_type": "code",
   "execution_count": null,
   "metadata": {
    "collapsed": false
   },
   "outputs": [],
   "source": []
  },
  {
   "cell_type": "code",
   "execution_count": null,
   "metadata": {
    "collapsed": false
   },
   "outputs": [],
   "source": [
    "# call function with numeric inputs and get a numeric result!\n",
    "model.steady_state_consumption(**params)"
   ]
  },
  {
   "cell_type": "code",
   "execution_count": null,
   "metadata": {
    "collapsed": false
   },
   "outputs": [],
   "source": [
    "# define some boundary conditions\n",
    "k0 = 1.0\n",
    "c_star = steady_state_consumption(A0=A0, alpha=alpha, delta=delta,\n",
    "                                  theta=theta, rho=rho, g=g, n=n)\n",
    "\n",
    "bcs = {'lower': [k - k0],\n",
    "       'upper': [c - c_star]}\n",
    "print bcs"
   ]
  },
  {
   "cell_type": "code",
   "execution_count": null,
   "metadata": {
    "collapsed": true
   },
   "outputs": [],
   "source": []
  },
  {
   "cell_type": "markdown",
   "metadata": {},
   "source": [
    "## Using pyCollocation"
   ]
  },
  {
   "cell_type": "code",
   "execution_count": null,
   "metadata": {
    "collapsed": true
   },
   "outputs": [],
   "source": [
    "bvp = pycollocation.SymbolicBoundaryValueProblem(dependent_vars=['k', 'c'],\n",
    "                                                 independent_var='t',\n",
    "                                                 rhs=rhs,\n",
    "                                                 boundary_conditions=bcs,\n",
    "                                                 params=params)"
   ]
  },
  {
   "cell_type": "code",
   "execution_count": null,
   "metadata": {
    "collapsed": true
   },
   "outputs": [],
   "source": [
    "solver = pycollocation.OrthogonalPolynomialSolver(bvp)"
   ]
  },
  {
   "cell_type": "code",
   "execution_count": null,
   "metadata": {
    "collapsed": false
   },
   "outputs": [],
   "source": [
    "# now this works for numerical values as well!\n",
    "steady_state_capital(**params)"
   ]
  },
  {
   "cell_type": "code",
   "execution_count": null,
   "metadata": {
    "collapsed": false
   },
   "outputs": [],
   "source": [
    "# define our domain of approximation\n",
    "domain = [0.0, 100.0]\n",
    "\n",
    "# initial guess for capital\n",
    "N = 1000\n",
    "ts = np.linspace(domain[0], domain[1], N)\n",
    "ks = steady_state_capital(**params) - (steady_state_capital(**params) - k0) * np.exp(-ts)\n",
    "cs = np.log(ks)\n",
    "\n",
    "def initial_polynomial(ts, xs, deg, domain):\n",
    "    \"\"\"Eventually need some to link to underlying basis functions!\"\"\"\n",
    "    return np.polynomial.Chebyshev.fit(ts, ks, deg, domain)\n",
    "\n",
    "def initial_coefs(ts, ks, cs, deg, domain):\n",
    "    \"\"\"Return dictionary of coefs.\"\"\"\n",
    "    capital = initial_polynomial(ts, ks, deg, domain)\n",
    "    consumption = initial_polynomial(ts, cs, deg, domain)\n",
    "    coefs = {'k': capital.coef, 'c': consumption.coef}\n",
    "    return coefs"
   ]
  },
  {
   "cell_type": "code",
   "execution_count": null,
   "metadata": {
    "collapsed": false
   },
   "outputs": [],
   "source": [
    "coefs_guess = initial_coefs(ts, ks, cs, 35, domain) \n",
    "solver.solve(kind=\"Chebyshev\",\n",
    "             coefs_dict=coefs_guess,\n",
    "             domain=domain)"
   ]
  },
  {
   "cell_type": "code",
   "execution_count": null,
   "metadata": {
    "collapsed": false
   },
   "outputs": [],
   "source": [
    "solver.result.x"
   ]
  },
  {
   "cell_type": "code",
   "execution_count": null,
   "metadata": {
    "collapsed": true
   },
   "outputs": [],
   "source": [
    "# now create a visualizer for plot the solution...\n",
    "visualizer = pycollocation.Visualizer(solver)"
   ]
  },
  {
   "cell_type": "code",
   "execution_count": null,
   "metadata": {
    "collapsed": false
   },
   "outputs": [],
   "source": [
    "# plot the solution\n",
    "visualizer.interpolation_knots = np.linspace(domain[0], domain[1], N)\n",
    "visualizer.solution.plot()\n",
    "plt.show()"
   ]
  },
  {
   "cell_type": "code",
   "execution_count": null,
   "metadata": {
    "collapsed": false
   },
   "outputs": [],
   "source": [
    "# plot the normalized residuals (they should be small everywhere!)\n",
    "visualizer.normalized_residuals.plot(logy=True)\n",
    "plt.show()"
   ]
  },
  {
   "cell_type": "code",
   "execution_count": null,
   "metadata": {
    "collapsed": true
   },
   "outputs": [],
   "source": []
  },
  {
   "cell_type": "code",
   "execution_count": null,
   "metadata": {
    "collapsed": true
   },
   "outputs": [],
   "source": []
  }
 ],
 "metadata": {
  "kernelspec": {
   "display_name": "Python 2",
   "language": "python",
   "name": "python2"
  },
  "language_info": {
   "codemirror_mode": {
    "name": "ipython",
    "version": 2
   },
   "file_extension": ".py",
   "mimetype": "text/x-python",
   "name": "python",
   "nbconvert_exporter": "python",
   "pygments_lexer": "ipython2",
   "version": "2.7.10"
  }
 },
 "nbformat": 4,
 "nbformat_minor": 0
}
