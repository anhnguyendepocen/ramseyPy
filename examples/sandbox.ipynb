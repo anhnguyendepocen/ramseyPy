{
 "cells": [
  {
   "cell_type": "markdown",
   "metadata": {},
   "source": [
    "# Ramsey-Cass-Koopmans model\n",
    "\n",
    "Ramsey model from Chapter 2 of D. Romer's *Advanced Economics* looks as follows...\n",
    "\n",
    "\\begin{align}\n",
    "    \\dot{k}(t) =& k(t)^{\\alpha} - c(t) - (g + n + \\delta)k(t),\\\\\n",
    "    \\dot{c}(t) =& \\Bigg[\\frac{1}{\\theta} \\bigg[\\alpha k(t)^{\\alpha - 1} - \\delta - \\rho - \\theta g\\bigg]\\Bigg]c(t)\n",
    "\\end{align}\n",
    "...with boundary conditions...\n",
    "\\begin{align}\n",
    "    k(0) =& k_0 \\\\\n",
    "    lim_{t\\rightarrow \\infty} c(t) =& c^*\n",
    "\\end{align}\n",
    "\n",
    "...where...\n",
    "\n",
    "* Elasticity of output with respect to catpial: $0 < \\alpha < 1$\n",
    "* Coefficient of relative risk aversion: $0 < \\theta$\n",
    "* Discount rate: $0 < \\rho$\n",
    "* Breakeven investment: $0 < g + n + \\delta$\n",
    "* Convergent lifetime utility: $0 < \\rho - n - (1 - \\theta)g$\n",
    "\n",
    "Note that we are assuming two things...\n",
    "\n",
    "1. Cobb-Douglas production\n",
    "2. Constant Relative Risk Aversion (CRRA) preferences\n",
    "\n"
   ]
  },
  {
   "cell_type": "code",
   "execution_count": 1,
   "metadata": {
    "collapsed": true
   },
   "outputs": [],
   "source": [
    "%matplotlib inline"
   ]
  },
  {
   "cell_type": "code",
   "execution_count": 2,
   "metadata": {
    "collapsed": true
   },
   "outputs": [],
   "source": [
    "import numpy as np\n",
    "import matplotlib.pyplot as plt\n",
    "import seaborn as sn\n",
    "import sympy as sym\n",
    "\n",
    "import pycollocation"
   ]
  },
  {
   "cell_type": "code",
   "execution_count": 3,
   "metadata": {
    "collapsed": true
   },
   "outputs": [],
   "source": [
    "# define some variables\n",
    "t, k, c = sym.symbols(\"t, k, c\")"
   ]
  },
  {
   "cell_type": "code",
   "execution_count": 4,
   "metadata": {
    "collapsed": false
   },
   "outputs": [],
   "source": [
    "# define some production parameters\n",
    "alpha, delta = sym.symbols(\"alpha, delta\")\n",
    "\n",
    "# define growth rates\n",
    "g, n = sym.symbols(\"g, n\")\n",
    "\n",
    "# define some preference parameters\n",
    "theta, rho = sym.symbols(\"theta, rho\")"
   ]
  },
  {
   "cell_type": "code",
   "execution_count": 5,
   "metadata": {
    "collapsed": false
   },
   "outputs": [
    {
     "name": "stdout",
     "output_type": "stream",
     "text": [
      "k**alpha\n"
     ]
    }
   ],
   "source": [
    "# user defined extensive production function\n",
    "def extensive_output(A, K, L, **params):\n",
    "    \"\"\"Output is a function of technology, A, capital, K, and labor, L.\"\"\"\n",
    "    alpha = params['alpha']\n",
    "    return K**alpha * (A * L)**(1 - alpha)\n",
    "\n",
    "def intensive_output(k, **params):\n",
    "    \"\"\"\n",
    "    Intensive output is a function of capital (per unit effective labor)\n",
    "    and model parameters.\n",
    "    \n",
    "    \"\"\"\n",
    "    return extensive_output(1, k, 1, **params) \n",
    "\n",
    "# call with symbolic input and get symbolic result!\n",
    "print intensive_output(k, alpha=alpha)"
   ]
  },
  {
   "cell_type": "code",
   "execution_count": 6,
   "metadata": {
    "collapsed": false
   },
   "outputs": [
    {
     "name": "stdout",
     "output_type": "stream",
     "text": [
      "2.1379620895\n"
     ]
    }
   ],
   "source": [
    "# call with numeric input and get numeric result...\n",
    "print intensive_output(10.0, alpha=0.33)"
   ]
  },
  {
   "cell_type": "code",
   "execution_count": 7,
   "metadata": {
    "collapsed": false
   },
   "outputs": [
    {
     "name": "stdout",
     "output_type": "stream",
     "text": [
      "[ 0.          2.21360421  2.7825301   3.18089978  3.49767755  3.76495746\n",
      "  3.99843357  4.20709506  4.39662746  4.5708819 ]\n"
     ]
    }
   ],
   "source": [
    "# also works with arrays!\n",
    "ks = np.linspace(0, 100, 10)\n",
    "print intensive_output(ks, alpha=0.33)"
   ]
  },
  {
   "cell_type": "code",
   "execution_count": 8,
   "metadata": {
    "collapsed": false
   },
   "outputs": [
    {
     "name": "stdout",
     "output_type": "stream",
     "text": [
      "(c**(-theta + 1) - 1)/(-theta + 1)\n"
     ]
    }
   ],
   "source": [
    "# define a flow utility function\n",
    "def flow_utility(c, **params):\n",
    "    \"\"\"Flow utility from consumption (per unit effective labor).\"\"\"\n",
    "    theta = params['theta']\n",
    "    return (c**(1 - theta) - 1) / (1 - theta)\n",
    "\n",
    "# symbolic inputs give symbolic outputs...\n",
    "print flow_utility(c, theta=theta)"
   ]
  },
  {
   "cell_type": "code",
   "execution_count": 9,
   "metadata": {
    "collapsed": false
   },
   "outputs": [
    {
     "name": "stdout",
     "output_type": "stream",
     "text": [
      "0.398735088936\n"
     ]
    }
   ],
   "source": [
    "# also works with scalars\n",
    "print flow_utility(10.0, theta=3.5)"
   ]
  },
  {
   "cell_type": "code",
   "execution_count": 10,
   "metadata": {
    "collapsed": false
   },
   "outputs": [
    {
     "name": "stdout",
     "output_type": "stream",
     "text": [
      "[ 0.43096441  0.58333333  0.62130575  0.63720388  0.64558482]\n"
     ]
    }
   ],
   "source": [
    "# also works with arrays\n",
    "cs = np.linspace(2.0, 10.0, 5)\n",
    "print flow_utility(cs, theta=2.5)"
   ]
  },
  {
   "cell_type": "code",
   "execution_count": 11,
   "metadata": {
    "collapsed": true
   },
   "outputs": [],
   "source": [
    "def actual_investment(k, c, **params):\n",
    "    \"\"\"Return investment (per unit effective labor).\"\"\"\n",
    "    return intensive_output(k, **params) - c\n",
    "\n",
    "def break_even_investment(k, delta, g, n, **params):\n",
    "    \"\"\"\n",
    "    Return level of investment (per unit effective labor) required\n",
    "    to maintain current level of capital (per unit effective labor).\n",
    "    \n",
    "    \"\"\"\n",
    "    return (g + n + delta) * k"
   ]
  },
  {
   "cell_type": "code",
   "execution_count": 12,
   "metadata": {
    "collapsed": false
   },
   "outputs": [
    {
     "name": "stdout",
     "output_type": "stream",
     "text": [
      "-c - k*(delta + g + n) + k**alpha\n"
     ]
    }
   ],
   "source": [
    "# define the equation of motion for capital (per unit effective labor)\n",
    "def equation_motion_capital(k, c, delta, g, n, **params):\n",
    "    \"\"\"Equation of motion for capital (per unit effective labor).\"\"\"\n",
    "    k_dot = (actual_investment(k, c, **params) -\n",
    "             break_even_investment(k, delta, g, n, **params))\n",
    "    return k_dot\n",
    "\n",
    "# symbolic inputs yield symbolic output!\n",
    "print equation_motion_capital(k, c, alpha=alpha, delta=delta, g=g, n=n)"
   ]
  },
  {
   "cell_type": "code",
   "execution_count": 13,
   "metadata": {
    "collapsed": false
   },
   "outputs": [
    {
     "data": {
      "text/plain": [
       "-1.6620379104977678"
      ]
     },
     "execution_count": 13,
     "metadata": {},
     "output_type": "execute_result"
    }
   ],
   "source": [
    "# also works for scalars...\n",
    "equation_motion_capital(10.0, 3.0, alpha=0.33, delta=0.04, g=0.02, n=0.02)"
   ]
  },
  {
   "cell_type": "code",
   "execution_count": 14,
   "metadata": {
    "collapsed": false
   },
   "outputs": [
    {
     "data": {
      "text/plain": [
       "array([-3.        , -2.2207615 , -2.05350841, -1.94971935, -1.87629067,\n",
       "       -1.82128016, -1.77884806, -1.74564948, -1.71956885, -1.69917316])"
      ]
     },
     "execution_count": 14,
     "metadata": {},
     "output_type": "execute_result"
    }
   ],
   "source": [
    "# also works for arrays (useful for plotting!)...\n",
    "ks = np.linspace(0, 5.0, 10)\n",
    "equation_motion_capital(ks, 3.0, alpha=0.33, delta=0.04, g=0.02, n=0.02)"
   ]
  },
  {
   "cell_type": "code",
   "execution_count": 15,
   "metadata": {
    "collapsed": false
   },
   "outputs": [
    {
     "name": "stdout",
     "output_type": "stream",
     "text": [
      "alpha*k**alpha/k\n"
     ]
    }
   ],
   "source": [
    "def marginal_product_capital(k, **params):\n",
    "    \"\"\"Marginal product of capital (per unit effective labor).\"\"\"\n",
    "    return sym.diff(intensive_output(k, **params), k, 1)\n",
    "    \n",
    "# symbolic input yields symbolic output\n",
    "print marginal_product_capital(k, alpha=alpha)"
   ]
  },
  {
   "cell_type": "code",
   "execution_count": 16,
   "metadata": {
    "collapsed": false
   },
   "outputs": [],
   "source": [
    "def relative_risk_aversion_coef(c, **params):\n",
    "    \"\"\"Returns the coefficient of relative risk aversion.\"\"\"\n",
    "    u = flow_utility(c, **params)\n",
    "    crra = -((c * sym.diff(u, c, 2)) / sym.diff(u, c, 1))\n",
    "    return crra\n",
    "\n",
    "# should simplify to theta with CRRA preferences\n",
    "assert(relative_risk_aversion_coef(c, theta=theta).simplify() == theta)"
   ]
  },
  {
   "cell_type": "code",
   "execution_count": 17,
   "metadata": {
    "collapsed": true
   },
   "outputs": [],
   "source": [
    "def elasticity_intertemporal_substitution(c, **params):\n",
    "    \"\"\"\n",
    "    Elasticity of intertemporal substitution is reciprical of the\n",
    "    coefficient of relative risk aversion.\n",
    "    \n",
    "    \"\"\"\n",
    "    epsilon = 1 / relative_risk_aversion_coef(c, **params)\n",
    "    return epsilon"
   ]
  },
  {
   "cell_type": "code",
   "execution_count": 18,
   "metadata": {
    "collapsed": false
   },
   "outputs": [],
   "source": [
    "def consumption_euler_equation(k, c, delta, g, rho, **params):\n",
    "    \"\"\"Consumption Euler equation.\"\"\"\n",
    "    mpk = marginal_product_capital(k, **params)\n",
    "    epsilon = elasticity_intertemporal_substitution(c, **params)\n",
    "    c_dot = (epsilon * (mpk - delta - rho) - g) * c\n",
    "    \n",
    "    return c_dot"
   ]
  },
  {
   "cell_type": "code",
   "execution_count": 19,
   "metadata": {
    "collapsed": false
   },
   "outputs": [
    {
     "name": "stdout",
     "output_type": "stream",
     "text": [
      "{'k': -c - k*(delta + g + n) + k**alpha, 'c': c*(c**(-theta + 1)*c**(theta - 1)*(alpha*k**alpha/k - delta - rho)/theta - g)}\n"
     ]
    }
   ],
   "source": [
    "# create a dictionary representing the RHS of our model\n",
    "k_dot = equation_motion_capital(k, c, alpha=alpha, delta=delta, g=g, n=n)\n",
    "c_dot = consumption_euler_equation(k, c, alpha=alpha, delta=delta,\n",
    "                                   rho=rho, theta=theta, g=g, n=n)\n",
    "rhs = {'k': k_dot, 'c': c_dot}\n",
    "print rhs"
   ]
  },
  {
   "cell_type": "markdown",
   "metadata": {},
   "source": [
    "## Boundary conditions\n",
    "Now we need to derive the steady state value for capital and consumption (per unit effective labor)...\n",
    "\\begin{align}\n",
    "    0 =& k(t)^{\\alpha} - c(t) - (g + n + \\delta)k(t),\\\\\n",
    "    0 =& \\Bigg[\\frac{1}{\\theta} \\bigg[\\alpha k(t)^{\\alpha - 1} - \\delta - \\rho - \\theta g\\bigg]\\Bigg]c(t)\n",
    "\\end{align}\n",
    "\n",
    "Here we go, first for capital,...\n",
    "\\begin{align}\n",
    "    0 =& \\Bigg[\\frac{1}{\\theta} \\bigg[\\alpha k(t)^{\\alpha - 1} - \\delta - \\rho - \\theta g\\bigg]\\Bigg]c(t) \\\\\n",
    "    0 =& \\alpha k(t)^{\\alpha - 1} - \\delta - \\rho - \\theta g \\\\\n",
    "    \\alpha k(t)^{\\alpha - 1} =& \\delta + \\rho + \\theta g \\\\\n",
    "    k(t)^{\\alpha - 1} =& \\frac{\\delta + \\rho + \\theta g}{\\alpha} \\\\\n",
    "    k^* =& \\Bigg(\\frac{\\delta + \\rho + \\theta g}{\\alpha}\\Bigg)^{\\frac{1}{\\alpha - 1}} \\\\\n",
    "    k^* =& \\Bigg(\\frac{\\alpha}{\\delta + \\rho + \\theta g}\\Bigg)^{\\frac{1}{1 - \\alpha}}\n",
    "\\end{align}"
   ]
  },
  {
   "cell_type": "code",
   "execution_count": 20,
   "metadata": {
    "collapsed": false
   },
   "outputs": [
    {
     "name": "stdout",
     "output_type": "stream",
     "text": [
      "(alpha/(delta + g*theta + rho))**(1/(-alpha + 1))\n"
     ]
    }
   ],
   "source": [
    "# user-defined function!\n",
    "def steady_state_capital(delta, g, n, rho, alpha, theta):\n",
    "    \"\"\"Equilibrium value of capital (per unit effective labor).\"\"\"\n",
    "    return (alpha / (delta + rho + theta * g))**(1 / (1 - alpha))\n",
    "\n",
    "# call the function with symbolic parameters...and get a symbolic result!\n",
    "print steady_state_capital(delta, g, n, rho, alpha, theta)"
   ]
  },
  {
   "cell_type": "markdown",
   "metadata": {},
   "source": [
    "...next we do the same for consumption...\n",
    "\n",
    "\\begin{align}\n",
    "    0 =& k^{*\\alpha} - c^* - (g + n + \\delta)k^* \\\\\n",
    "    c^* =& k^{*\\alpha} - (g + n + \\delta)k^*\n",
    "\\end{align}"
   ]
  },
  {
   "cell_type": "code",
   "execution_count": 22,
   "metadata": {
    "collapsed": false
   },
   "outputs": [
    {
     "name": "stdout",
     "output_type": "stream",
     "text": [
      "-(alpha/(delta + g*theta + rho))**(1/(-alpha + 1))*(delta + g + n) + ((alpha/(delta + g*theta + rho))**(1/(-alpha + 1)))**alpha\n"
     ]
    }
   ],
   "source": [
    "def steady_state_capital_locus(k, delta, g, n, **params):\n",
    "    \"\"\"\n",
    "    Locus of points (k, c) such that :math:`\\dot{k}=0`.\n",
    "    \n",
    "    Function returns the level of consumption (per unit\n",
    "    effective labor) required in order to maintain a given\n",
    "    level of capital (per unit effective labor).\n",
    "    \n",
    "    \"\"\"\n",
    "    locus = (intensive_output(k, **params) -\n",
    "             break_even_investment(k, delta, g, n, **params))\n",
    "    return locus\n",
    "    \n",
    "def steady_state_consumption(delta, g, n, rho, **params):\n",
    "    \"\"\"Equilibrium value for consumption (per unit effective labor).\"\"\"\n",
    "    k_star = steady_state_capital(delta, g, n, rho, **params)\n",
    "    c_star = steady_state_capital_locus(k_star, delta, g, n, **params)\n",
    "    return c_star\n",
    "\n",
    "# call function with symbolic parameters...get a symbolic result!\n",
    "print steady_state_consumption(delta, g, n, rho, alpha=alpha, theta=theta)"
   ]
  },
  {
   "cell_type": "code",
   "execution_count": 23,
   "metadata": {
    "collapsed": true
   },
   "outputs": [],
   "source": [
    "# finally we need to define some parameters...\n",
    "params = {'alpha': 0.33, 'delta': 0.04, 'theta': 1.05, 'rho': 0.05,\n",
    "          'g': 0.02, 'n': 0.02}"
   ]
  },
  {
   "cell_type": "code",
   "execution_count": 24,
   "metadata": {
    "collapsed": false
   },
   "outputs": [
    {
     "data": {
      "text/plain": [
       "1.303501661180578"
      ]
     },
     "execution_count": 24,
     "metadata": {},
     "output_type": "execute_result"
    }
   ],
   "source": [
    "# call function with numeric inputs and get a numeric result!\n",
    "steady_state_consumption(**params)"
   ]
  },
  {
   "cell_type": "code",
   "execution_count": 25,
   "metadata": {
    "collapsed": false
   },
   "outputs": [
    {
     "name": "stdout",
     "output_type": "stream",
     "text": [
      "{'upper': [c + (alpha/(delta + g*theta + rho))**(1/(-alpha + 1))*(delta + g + n) - ((alpha/(delta + g*theta + rho))**(1/(-alpha + 1)))**alpha], 'lower': [k - 1.0]}\n"
     ]
    }
   ],
   "source": [
    "# define some boundary conditions\n",
    "k0 = 1.0\n",
    "c_star = steady_state_consumption(alpha=alpha, delta=delta, theta=theta,\n",
    "                                  rho=rho, g=g, n=n)\n",
    "\n",
    "bcs = {'lower': [k - k0],\n",
    "       'upper': [c - c_star]}\n",
    "print bcs"
   ]
  },
  {
   "cell_type": "code",
   "execution_count": null,
   "metadata": {
    "collapsed": true
   },
   "outputs": [],
   "source": []
  },
  {
   "cell_type": "markdown",
   "metadata": {},
   "source": [
    "## Using pyCollocation"
   ]
  },
  {
   "cell_type": "code",
   "execution_count": 26,
   "metadata": {
    "collapsed": true
   },
   "outputs": [],
   "source": [
    "model = pycollocation.SymbolicBoundaryValueProblem(dependent_vars=['k', 'c'],\n",
    "                                                   independent_var='t',\n",
    "                                                   rhs=rhs,\n",
    "                                                   boundary_conditions=bcs,\n",
    "                                                   params=params)"
   ]
  },
  {
   "cell_type": "code",
   "execution_count": 27,
   "metadata": {
    "collapsed": true
   },
   "outputs": [],
   "source": [
    "solver = pycollocation.OrthogonalPolynomialSolver(model)"
   ]
  },
  {
   "cell_type": "code",
   "execution_count": 28,
   "metadata": {
    "collapsed": false
   },
   "outputs": [
    {
     "data": {
      "text/plain": [
       "5.084580947867504"
      ]
     },
     "execution_count": 28,
     "metadata": {},
     "output_type": "execute_result"
    }
   ],
   "source": [
    "# now this works for numerical values as well!\n",
    "steady_state_capital(**params)"
   ]
  },
  {
   "cell_type": "code",
   "execution_count": 29,
   "metadata": {
    "collapsed": false
   },
   "outputs": [],
   "source": [
    "# define our domain of approximation\n",
    "domain = [0.0, 100.0]\n",
    "\n",
    "# initial guess for capital\n",
    "N = 1000\n",
    "ts = np.linspace(domain[0], domain[1], N)\n",
    "ks = steady_state_capital(**params) - (steady_state_capital(**params) - k0) * np.exp(-ts)\n",
    "cs = np.log(ks)\n",
    "\n",
    "def initial_polynomial(ts, xs, deg, domain):\n",
    "    \"\"\"Eventually need some to link to underlying basis functions!\"\"\"\n",
    "    return np.polynomial.Chebyshev.fit(ts, ks, deg, domain)\n",
    "\n",
    "def initial_coefs(ts, ks, cs, deg, domain):\n",
    "    \"\"\"Return dictionary of coefs.\"\"\"\n",
    "    capital = initial_polynomial(ts, ks, deg, domain)\n",
    "    consumption = initial_polynomial(ts, cs, deg, domain)\n",
    "    coefs = {'k': capital.coef, 'c': consumption.coef}\n",
    "    return coefs"
   ]
  },
  {
   "cell_type": "code",
   "execution_count": 30,
   "metadata": {
    "collapsed": false
   },
   "outputs": [],
   "source": [
    "coefs_guess = initial_coefs(ts, ks, cs, 35, domain) \n",
    "solver.solve(kind=\"Chebyshev\",\n",
    "             coefs_dict=coefs_guess,\n",
    "             domain=domain)"
   ]
  },
  {
   "cell_type": "code",
   "execution_count": 31,
   "metadata": {
    "collapsed": false
   },
   "outputs": [
    {
     "data": {
      "text/plain": [
       "array([  4.37225405e+00,   1.29407760e+00,  -9.72862387e-01,\n",
       "         6.08921292e-01,  -3.18201558e-01,   1.37285311e-01,\n",
       "        -4.62850602e-02,   9.22882156e-03,   2.25265028e-03,\n",
       "        -4.07400457e-03,   3.21212000e-03,  -2.07493833e-03,\n",
       "         1.24105453e-03,  -7.22117266e-04,   4.18592261e-04,\n",
       "        -2.44435831e-04,   1.44396564e-04,  -8.63551432e-05,\n",
       "         5.22449115e-05,  -3.19390960e-05,   1.97071578e-05,\n",
       "        -1.22605018e-05,   7.68428915e-06,  -4.84844391e-06,\n",
       "         3.07792569e-06,  -1.96514557e-06,   1.26163055e-06,\n",
       "        -8.14606070e-07,   5.29424466e-07,  -3.47071441e-07,\n",
       "         2.30580740e-07,  -1.56776432e-07,   1.10978890e-07,\n",
       "        -8.39515496e-08,   4.59631210e-08,  -9.06485057e-09,\n",
       "         1.17873943e+00,   2.28498625e-01,  -1.76366595e-01,\n",
       "         1.16303877e-01,  -6.68076608e-02,   3.42707361e-02,\n",
       "        -1.62089828e-02,   7.36702585e-03,  -3.37782840e-03,\n",
       "         1.63268450e-03,  -8.50106911e-04,   4.74261609e-04,\n",
       "        -2.78167064e-04,   1.68519209e-04,  -1.04250866e-04,\n",
       "         6.54391430e-05,  -4.15333271e-05,   2.65970432e-05,\n",
       "        -1.71602059e-05,   1.11430937e-05,  -7.27662553e-06,\n",
       "         4.77545511e-06,  -3.14799525e-06,   2.08356680e-06,\n",
       "        -1.38419779e-06,   9.22827088e-07,  -6.17389026e-07,\n",
       "         4.14583842e-07,  -2.79625272e-07,   1.89715826e-07,\n",
       "        -1.29871121e-07,   9.02377686e-08,  -6.43792306e-08,\n",
       "         4.78481012e-08,  -3.82330998e-08,   1.72751855e-08])"
      ]
     },
     "execution_count": 31,
     "metadata": {},
     "output_type": "execute_result"
    }
   ],
   "source": [
    "solver.result.x"
   ]
  },
  {
   "cell_type": "code",
   "execution_count": 32,
   "metadata": {
    "collapsed": true
   },
   "outputs": [],
   "source": [
    "# now create a visualizer for plot the solution...\n",
    "visualizer = pycollocation.Visualizer(solver)"
   ]
  },
  {
   "cell_type": "code",
   "execution_count": 33,
   "metadata": {
    "collapsed": false
   },
   "outputs": [
    {
     "data": {
      "image/png": "[encoded data removed]",
      "text/plain": [
       "<matplotlib.figure.Figure at 0x113c76d90>"
      ]
     },
     "metadata": {},
     "output_type": "display_data"
    }
   ],
   "source": [
    "# plot the solution\n",
    "visualizer.interpolation_knots = np.linspace(domain[0], domain[1], N)\n",
    "visualizer.solution.plot()\n",
    "plt.show()"
   ]
  },
  {
   "cell_type": "code",
   "execution_count": 34,
   "metadata": {
    "collapsed": false
   },
   "outputs": [
    {
     "data": {
      "image/png": "[encoded data removed]",
      "text/plain": [
       "<matplotlib.figure.Figure at 0x113aec850>"
      ]
     },
     "metadata": {},
     "output_type": "display_data"
    }
   ],
   "source": [
    "# plot the normalized residuals (they should be small everywhere!)\n",
    "visualizer.normalized_residuals.plot(logy=True)\n",
    "plt.show()"
   ]
  },
  {
   "cell_type": "code",
   "execution_count": null,
   "metadata": {
    "collapsed": true
   },
   "outputs": [],
   "source": []
  }
 ],
 "metadata": {
  "kernelspec": {
   "display_name": "Python 2",
   "language": "python",
   "name": "python2"
  },
  "language_info": {
   "codemirror_mode": {
    "name": "ipython",
    "version": 2
   },
   "file_extension": ".py",
   "mimetype": "text/x-python",
   "name": "python",
   "nbconvert_exporter": "python",
   "pygments_lexer": "ipython2",
   "version": "2.7.10"
  }
 },
 "nbformat": 4,
 "nbformat_minor": 0
}
